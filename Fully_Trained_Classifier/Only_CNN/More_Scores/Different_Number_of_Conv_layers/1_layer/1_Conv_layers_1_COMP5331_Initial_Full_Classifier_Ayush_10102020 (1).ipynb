{
  "nbformat": 4,
  "nbformat_minor": 0,
  "metadata": {
    "colab": {
      "name": "1_Conv_layers_1_COMP5331_Initial_Full_Classifier_Ayush_10102020",
      "provenance": [],
      "collapsed_sections": []
    },
    "kernelspec": {
      "name": "python3",
      "display_name": "Python 3"
    },
    "accelerator": "GPU"
  },
  "cells": [
    {
      "cell_type": "code",
      "metadata": {
        "id": "gv6nx80K4QNK"
      },
      "source": [
        "import numpy as np\n",
        "import pandas as pd \n",
        "from keras.preprocessing.image import ImageDataGenerator, load_img\n",
        "from keras.utils import to_categorical\n",
        "from sklearn.model_selection import train_test_split\n",
        "import matplotlib.pyplot as plt\n",
        "import random\n",
        "import os"
      ],
      "execution_count": 65,
      "outputs": []
    },
    {
      "cell_type": "markdown",
      "metadata": {
        "id": "iT0un9wb7QEb"
      },
      "source": [
        "Define constants"
      ]
    },
    {
      "cell_type": "code",
      "metadata": {
        "id": "XcFGFv2o7N1u"
      },
      "source": [
        "FAST_RUN = False\n",
        "IMAGE_WIDTH=128\n",
        "IMAGE_HEIGHT=128\n",
        "IMAGE_SIZE=(IMAGE_WIDTH, IMAGE_HEIGHT)\n",
        "IMAGE_CHANNELS=3"
      ],
      "execution_count": 66,
      "outputs": []
    },
    {
      "cell_type": "markdown",
      "metadata": {
        "id": "JtsAalz-7TmB"
      },
      "source": [
        "Prepare data"
      ]
    },
    {
      "cell_type": "markdown",
      "metadata": {
        "id": "s_iDUIM77Vk4"
      },
      "source": [
        "Download data and save it"
      ]
    },
    {
      "cell_type": "code",
      "metadata": {
        "id": "_05v3CbN7RpR"
      },
      "source": [
        "url = 'https://drive.google.com/file/d/1gjbSZV5NjjIVOqSP-yTCqXcGPX9PnYn5/view?usp=sharing'"
      ],
      "execution_count": 67,
      "outputs": []
    },
    {
      "cell_type": "code",
      "metadata": {
        "id": "Fp1FQpyd7jwo",
        "outputId": "93beafed-7fe9-46e7-fc54-68555fbe131c",
        "colab": {
          "base_uri": "https://localhost:8080/"
        }
      },
      "source": [
        "!gdown --id 1gjbSZV5NjjIVOqSP-yTCqXcGPX9PnYn5"
      ],
      "execution_count": 68,
      "outputs": [
        {
          "output_type": "stream",
          "text": [
            "Downloading...\n",
            "From: https://drive.google.com/uc?id=1gjbSZV5NjjIVOqSP-yTCqXcGPX9PnYn5\n",
            "To: /content/MM17-WeiboRumorSet.zip\n",
            "1.35GB [00:20, 65.3MB/s]\n"
          ],
          "name": "stdout"
        }
      ]
    },
    {
      "cell_type": "markdown",
      "metadata": {
        "id": "hYPHGO1E7uh6"
      },
      "source": [
        "Unzip and save into folder train_extracted"
      ]
    },
    {
      "cell_type": "code",
      "metadata": {
        "id": "rhviYA0i7spi"
      },
      "source": [
        "import zipfile\n",
        "with zipfile.ZipFile(\"MM17-WeiboRumorSet.zip\",\"r\") as zip_ref:\n",
        "    zip_ref.extractall(\"./train_extracted\")"
      ],
      "execution_count": 69,
      "outputs": []
    },
    {
      "cell_type": "markdown",
      "metadata": {
        "id": "pWLQXyRB74iI"
      },
      "source": [
        "Exract labels from image names and save image names with corresponding labels in dataframe"
      ]
    },
    {
      "cell_type": "code",
      "metadata": {
        "id": "Pk6D3XmT72dg"
      },
      "source": [
        "filenames1 = os.listdir(\"./train_extracted/MM17-WeiboRumorSet/rumor_images\")\n",
        "filenames01 = []\n",
        "categories1 = []\n",
        "for filename in filenames1:\n",
        "    category = 1 # rumor\n",
        "    categories1.append(1)\n",
        "    s = \"rumor_images/\"+str(filename)\n",
        "    filenames01.append(s)\n",
        "\n",
        "df1 = pd.DataFrame({\n",
        "    'filename': filenames01,\n",
        "    'category': categories1\n",
        "})"
      ],
      "execution_count": 70,
      "outputs": []
    },
    {
      "cell_type": "code",
      "metadata": {
        "id": "bHnbciSU8dYZ",
        "outputId": "73eb3442-c2ae-46bf-8226-512d6b84cb60",
        "colab": {
          "base_uri": "https://localhost:8080/",
          "height": 203
        }
      },
      "source": [
        "df1.head()"
      ],
      "execution_count": 71,
      "outputs": [
        {
          "output_type": "execute_result",
          "data": {
            "text/html": [
              "<div>\n",
              "<style scoped>\n",
              "    .dataframe tbody tr th:only-of-type {\n",
              "        vertical-align: middle;\n",
              "    }\n",
              "\n",
              "    .dataframe tbody tr th {\n",
              "        vertical-align: top;\n",
              "    }\n",
              "\n",
              "    .dataframe thead th {\n",
              "        text-align: right;\n",
              "    }\n",
              "</style>\n",
              "<table border=\"1\" class=\"dataframe\">\n",
              "  <thead>\n",
              "    <tr style=\"text-align: right;\">\n",
              "      <th></th>\n",
              "      <th>filename</th>\n",
              "      <th>category</th>\n",
              "    </tr>\n",
              "  </thead>\n",
              "  <tbody>\n",
              "    <tr>\n",
              "      <th>0</th>\n",
              "      <td>rumor_images/0062SQMfjw1er5h3sjsduj30go0b4mxy.jpg</td>\n",
              "      <td>1</td>\n",
              "    </tr>\n",
              "    <tr>\n",
              "      <th>1</th>\n",
              "      <td>rumor_images/48d702e4jw1eaemtw7ltzj20zk0e8dme.jpg</td>\n",
              "      <td>1</td>\n",
              "    </tr>\n",
              "    <tr>\n",
              "      <th>2</th>\n",
              "      <td>rumor_images/0067agZ4jw1es9cldrayrj308l064mx3.jpg</td>\n",
              "      <td>1</td>\n",
              "    </tr>\n",
              "    <tr>\n",
              "      <th>3</th>\n",
              "      <td>rumor_images/71d4be65gw1eee2e0hca7j20oc0f741e.jpg</td>\n",
              "      <td>1</td>\n",
              "    </tr>\n",
              "    <tr>\n",
              "      <th>4</th>\n",
              "      <td>rumor_images/005C3vAljw1ep6zsunu6pj30gd0m8ab5.jpg</td>\n",
              "      <td>1</td>\n",
              "    </tr>\n",
              "  </tbody>\n",
              "</table>\n",
              "</div>"
            ],
            "text/plain": [
              "                                            filename  category\n",
              "0  rumor_images/0062SQMfjw1er5h3sjsduj30go0b4mxy.jpg         1\n",
              "1  rumor_images/48d702e4jw1eaemtw7ltzj20zk0e8dme.jpg         1\n",
              "2  rumor_images/0067agZ4jw1es9cldrayrj308l064mx3.jpg         1\n",
              "3  rumor_images/71d4be65gw1eee2e0hca7j20oc0f741e.jpg         1\n",
              "4  rumor_images/005C3vAljw1ep6zsunu6pj30gd0m8ab5.jpg         1"
            ]
          },
          "metadata": {
            "tags": []
          },
          "execution_count": 71
        }
      ]
    },
    {
      "cell_type": "code",
      "metadata": {
        "id": "q9PJWG2A87dJ",
        "outputId": "6a9bb6d9-d1c5-4796-e1cd-7aa84af8156c",
        "colab": {
          "base_uri": "https://localhost:8080/"
        }
      },
      "source": [
        "len(df1) # number of rumor images"
      ],
      "execution_count": 72,
      "outputs": [
        {
          "output_type": "execute_result",
          "data": {
            "text/plain": [
              "7954"
            ]
          },
          "metadata": {
            "tags": []
          },
          "execution_count": 72
        }
      ]
    },
    {
      "cell_type": "code",
      "metadata": {
        "id": "s3x7rXsP8ebo"
      },
      "source": [
        "filenames2 = os.listdir(\"./train_extracted/MM17-WeiboRumorSet/nonrumor_images\")\n",
        "filenames02 = []\n",
        "categories2 = []\n",
        "for filename in filenames2:\n",
        "    category2 = 0 # rumor\n",
        "    categories2.append(0)\n",
        "    s = \"nonrumor_images/\"+str(filename)\n",
        "    filenames02.append(s)\n",
        "\n",
        "df2 = pd.DataFrame({\n",
        "    'filename': filenames02,\n",
        "    'category': categories2\n",
        "})"
      ],
      "execution_count": 73,
      "outputs": []
    },
    {
      "cell_type": "code",
      "metadata": {
        "id": "9SWw95p98wPA",
        "outputId": "502a8848-7dc2-4694-b477-36a4916fbcb6",
        "colab": {
          "base_uri": "https://localhost:8080/",
          "height": 203
        }
      },
      "source": [
        "df2.head()"
      ],
      "execution_count": 74,
      "outputs": [
        {
          "output_type": "execute_result",
          "data": {
            "text/html": [
              "<div>\n",
              "<style scoped>\n",
              "    .dataframe tbody tr th:only-of-type {\n",
              "        vertical-align: middle;\n",
              "    }\n",
              "\n",
              "    .dataframe tbody tr th {\n",
              "        vertical-align: top;\n",
              "    }\n",
              "\n",
              "    .dataframe thead th {\n",
              "        text-align: right;\n",
              "    }\n",
              "</style>\n",
              "<table border=\"1\" class=\"dataframe\">\n",
              "  <thead>\n",
              "    <tr style=\"text-align: right;\">\n",
              "      <th></th>\n",
              "      <th>filename</th>\n",
              "      <th>category</th>\n",
              "    </tr>\n",
              "  </thead>\n",
              "  <tbody>\n",
              "    <tr>\n",
              "      <th>0</th>\n",
              "      <td>nonrumor_images/593bbc68gw1eyu8xr22qwj20c80qog...</td>\n",
              "      <td>0</td>\n",
              "    </tr>\n",
              "    <tr>\n",
              "      <th>1</th>\n",
              "      <td>nonrumor_images/6a5ce645jw1ezu74jn618j20c8096a...</td>\n",
              "      <td>0</td>\n",
              "    </tr>\n",
              "    <tr>\n",
              "      <th>2</th>\n",
              "      <td>nonrumor_images/61e6c012jw1ezfi3q48epj20c8282w...</td>\n",
              "      <td>0</td>\n",
              "    </tr>\n",
              "    <tr>\n",
              "      <th>3</th>\n",
              "      <td>nonrumor_images/6a5ce645jw1ezefna2nokj20bv0ctd...</td>\n",
              "      <td>0</td>\n",
              "    </tr>\n",
              "    <tr>\n",
              "      <th>4</th>\n",
              "      <td>nonrumor_images/61e6c012jw1ezjxnp33f0j20c80he4...</td>\n",
              "      <td>0</td>\n",
              "    </tr>\n",
              "  </tbody>\n",
              "</table>\n",
              "</div>"
            ],
            "text/plain": [
              "                                            filename  category\n",
              "0  nonrumor_images/593bbc68gw1eyu8xr22qwj20c80qog...         0\n",
              "1  nonrumor_images/6a5ce645jw1ezu74jn618j20c8096a...         0\n",
              "2  nonrumor_images/61e6c012jw1ezfi3q48epj20c8282w...         0\n",
              "3  nonrumor_images/6a5ce645jw1ezefna2nokj20bv0ctd...         0\n",
              "4  nonrumor_images/61e6c012jw1ezjxnp33f0j20c80he4...         0"
            ]
          },
          "metadata": {
            "tags": []
          },
          "execution_count": 74
        }
      ]
    },
    {
      "cell_type": "code",
      "metadata": {
        "id": "7d2VfS1D89Yr",
        "outputId": "a90d19ca-6da5-476f-b2af-9c7d98ad2239",
        "colab": {
          "base_uri": "https://localhost:8080/"
        }
      },
      "source": [
        "len(df2) # number of non rumor images"
      ],
      "execution_count": 75,
      "outputs": [
        {
          "output_type": "execute_result",
          "data": {
            "text/plain": [
              "5318"
            ]
          },
          "metadata": {
            "tags": []
          },
          "execution_count": 75
        }
      ]
    },
    {
      "cell_type": "code",
      "metadata": {
        "id": "uZ42s8Ro_6Va"
      },
      "source": [
        "df = df1.append(df2, ignore_index=True).reset_index(drop = True)"
      ],
      "execution_count": 76,
      "outputs": []
    },
    {
      "cell_type": "code",
      "metadata": {
        "id": "_fIUquAhAZB-",
        "outputId": "649607bc-68bc-49b4-d49d-cc7711726f9c",
        "colab": {
          "base_uri": "https://localhost:8080/",
          "height": 203
        }
      },
      "source": [
        "df.head()"
      ],
      "execution_count": 77,
      "outputs": [
        {
          "output_type": "execute_result",
          "data": {
            "text/html": [
              "<div>\n",
              "<style scoped>\n",
              "    .dataframe tbody tr th:only-of-type {\n",
              "        vertical-align: middle;\n",
              "    }\n",
              "\n",
              "    .dataframe tbody tr th {\n",
              "        vertical-align: top;\n",
              "    }\n",
              "\n",
              "    .dataframe thead th {\n",
              "        text-align: right;\n",
              "    }\n",
              "</style>\n",
              "<table border=\"1\" class=\"dataframe\">\n",
              "  <thead>\n",
              "    <tr style=\"text-align: right;\">\n",
              "      <th></th>\n",
              "      <th>filename</th>\n",
              "      <th>category</th>\n",
              "    </tr>\n",
              "  </thead>\n",
              "  <tbody>\n",
              "    <tr>\n",
              "      <th>0</th>\n",
              "      <td>rumor_images/0062SQMfjw1er5h3sjsduj30go0b4mxy.jpg</td>\n",
              "      <td>1</td>\n",
              "    </tr>\n",
              "    <tr>\n",
              "      <th>1</th>\n",
              "      <td>rumor_images/48d702e4jw1eaemtw7ltzj20zk0e8dme.jpg</td>\n",
              "      <td>1</td>\n",
              "    </tr>\n",
              "    <tr>\n",
              "      <th>2</th>\n",
              "      <td>rumor_images/0067agZ4jw1es9cldrayrj308l064mx3.jpg</td>\n",
              "      <td>1</td>\n",
              "    </tr>\n",
              "    <tr>\n",
              "      <th>3</th>\n",
              "      <td>rumor_images/71d4be65gw1eee2e0hca7j20oc0f741e.jpg</td>\n",
              "      <td>1</td>\n",
              "    </tr>\n",
              "    <tr>\n",
              "      <th>4</th>\n",
              "      <td>rumor_images/005C3vAljw1ep6zsunu6pj30gd0m8ab5.jpg</td>\n",
              "      <td>1</td>\n",
              "    </tr>\n",
              "  </tbody>\n",
              "</table>\n",
              "</div>"
            ],
            "text/plain": [
              "                                            filename  category\n",
              "0  rumor_images/0062SQMfjw1er5h3sjsduj30go0b4mxy.jpg         1\n",
              "1  rumor_images/48d702e4jw1eaemtw7ltzj20zk0e8dme.jpg         1\n",
              "2  rumor_images/0067agZ4jw1es9cldrayrj308l064mx3.jpg         1\n",
              "3  rumor_images/71d4be65gw1eee2e0hca7j20oc0f741e.jpg         1\n",
              "4  rumor_images/005C3vAljw1ep6zsunu6pj30gd0m8ab5.jpg         1"
            ]
          },
          "metadata": {
            "tags": []
          },
          "execution_count": 77
        }
      ]
    },
    {
      "cell_type": "code",
      "metadata": {
        "id": "2pH2wtpWAZ--",
        "outputId": "89fc73a1-ae78-4944-c078-5fb7d522fadd",
        "colab": {
          "base_uri": "https://localhost:8080/"
        }
      },
      "source": [
        "len(df) # combined"
      ],
      "execution_count": 78,
      "outputs": [
        {
          "output_type": "execute_result",
          "data": {
            "text/plain": [
              "13272"
            ]
          },
          "metadata": {
            "tags": []
          },
          "execution_count": 78
        }
      ]
    },
    {
      "cell_type": "code",
      "metadata": {
        "id": "1-FVPif5AbDG",
        "outputId": "c8193692-60eb-48eb-c567-6e5d2d432822",
        "colab": {
          "base_uri": "https://localhost:8080/",
          "height": 296
        }
      },
      "source": [
        "df.describe()"
      ],
      "execution_count": 79,
      "outputs": [
        {
          "output_type": "execute_result",
          "data": {
            "text/html": [
              "<div>\n",
              "<style scoped>\n",
              "    .dataframe tbody tr th:only-of-type {\n",
              "        vertical-align: middle;\n",
              "    }\n",
              "\n",
              "    .dataframe tbody tr th {\n",
              "        vertical-align: top;\n",
              "    }\n",
              "\n",
              "    .dataframe thead th {\n",
              "        text-align: right;\n",
              "    }\n",
              "</style>\n",
              "<table border=\"1\" class=\"dataframe\">\n",
              "  <thead>\n",
              "    <tr style=\"text-align: right;\">\n",
              "      <th></th>\n",
              "      <th>category</th>\n",
              "    </tr>\n",
              "  </thead>\n",
              "  <tbody>\n",
              "    <tr>\n",
              "      <th>count</th>\n",
              "      <td>13272.000000</td>\n",
              "    </tr>\n",
              "    <tr>\n",
              "      <th>mean</th>\n",
              "      <td>0.599307</td>\n",
              "    </tr>\n",
              "    <tr>\n",
              "      <th>std</th>\n",
              "      <td>0.490057</td>\n",
              "    </tr>\n",
              "    <tr>\n",
              "      <th>min</th>\n",
              "      <td>0.000000</td>\n",
              "    </tr>\n",
              "    <tr>\n",
              "      <th>25%</th>\n",
              "      <td>0.000000</td>\n",
              "    </tr>\n",
              "    <tr>\n",
              "      <th>50%</th>\n",
              "      <td>1.000000</td>\n",
              "    </tr>\n",
              "    <tr>\n",
              "      <th>75%</th>\n",
              "      <td>1.000000</td>\n",
              "    </tr>\n",
              "    <tr>\n",
              "      <th>max</th>\n",
              "      <td>1.000000</td>\n",
              "    </tr>\n",
              "  </tbody>\n",
              "</table>\n",
              "</div>"
            ],
            "text/plain": [
              "           category\n",
              "count  13272.000000\n",
              "mean       0.599307\n",
              "std        0.490057\n",
              "min        0.000000\n",
              "25%        0.000000\n",
              "50%        1.000000\n",
              "75%        1.000000\n",
              "max        1.000000"
            ]
          },
          "metadata": {
            "tags": []
          },
          "execution_count": 79
        }
      ]
    },
    {
      "cell_type": "code",
      "metadata": {
        "id": "xEICoXREAe7W",
        "outputId": "2bf39366-99b2-4677-d369-b6c98c93ea03",
        "colab": {
          "base_uri": "https://localhost:8080/",
          "height": 203
        }
      },
      "source": [
        "df.tail()"
      ],
      "execution_count": 80,
      "outputs": [
        {
          "output_type": "execute_result",
          "data": {
            "text/html": [
              "<div>\n",
              "<style scoped>\n",
              "    .dataframe tbody tr th:only-of-type {\n",
              "        vertical-align: middle;\n",
              "    }\n",
              "\n",
              "    .dataframe tbody tr th {\n",
              "        vertical-align: top;\n",
              "    }\n",
              "\n",
              "    .dataframe thead th {\n",
              "        text-align: right;\n",
              "    }\n",
              "</style>\n",
              "<table border=\"1\" class=\"dataframe\">\n",
              "  <thead>\n",
              "    <tr style=\"text-align: right;\">\n",
              "      <th></th>\n",
              "      <th>filename</th>\n",
              "      <th>category</th>\n",
              "    </tr>\n",
              "  </thead>\n",
              "  <tbody>\n",
              "    <tr>\n",
              "      <th>13267</th>\n",
              "      <td>nonrumor_images/66eeadffjw1eynry1ltilj20go0m8d...</td>\n",
              "      <td>0</td>\n",
              "    </tr>\n",
              "    <tr>\n",
              "      <th>13268</th>\n",
              "      <td>nonrumor_images/6a5ce645jw1ezefndxpnnj20c50bwg...</td>\n",
              "      <td>0</td>\n",
              "    </tr>\n",
              "    <tr>\n",
              "      <th>13269</th>\n",
              "      <td>nonrumor_images/470bf257jw1eue540s1zuj20hr0e6j...</td>\n",
              "      <td>0</td>\n",
              "    </tr>\n",
              "    <tr>\n",
              "      <th>13270</th>\n",
              "      <td>nonrumor_images/6693ce84gw1ez0r8sv77oj20c836zh...</td>\n",
              "      <td>0</td>\n",
              "    </tr>\n",
              "    <tr>\n",
              "      <th>13271</th>\n",
              "      <td>nonrumor_images/625ab309jw1eyhkiz1jmkj20bl0gnm...</td>\n",
              "      <td>0</td>\n",
              "    </tr>\n",
              "  </tbody>\n",
              "</table>\n",
              "</div>"
            ],
            "text/plain": [
              "                                                filename  category\n",
              "13267  nonrumor_images/66eeadffjw1eynry1ltilj20go0m8d...         0\n",
              "13268  nonrumor_images/6a5ce645jw1ezefndxpnnj20c50bwg...         0\n",
              "13269  nonrumor_images/470bf257jw1eue540s1zuj20hr0e6j...         0\n",
              "13270  nonrumor_images/6693ce84gw1ez0r8sv77oj20c836zh...         0\n",
              "13271  nonrumor_images/625ab309jw1eyhkiz1jmkj20bl0gnm...         0"
            ]
          },
          "metadata": {
            "tags": []
          },
          "execution_count": 80
        }
      ]
    },
    {
      "cell_type": "markdown",
      "metadata": {
        "id": "Pm3W4A0BBFex"
      },
      "source": [
        "Total count"
      ]
    },
    {
      "cell_type": "code",
      "metadata": {
        "id": "nwsJEYNoAnad",
        "outputId": "231e009e-12be-4bdd-dbbe-5c71958394aa",
        "colab": {
          "base_uri": "https://localhost:8080/"
        }
      },
      "source": [
        "label_counts = df.groupby('category').size()\n",
        "print(label_counts)"
      ],
      "execution_count": 81,
      "outputs": [
        {
          "output_type": "stream",
          "text": [
            "category\n",
            "0    5318\n",
            "1    7954\n",
            "dtype: int64\n"
          ],
          "name": "stdout"
        }
      ]
    },
    {
      "cell_type": "code",
      "metadata": {
        "id": "Hr5bn68EA5zF",
        "outputId": "b730060a-c927-4335-848b-49e8552eb27d",
        "colab": {
          "base_uri": "https://localhost:8080/",
          "height": 279
        }
      },
      "source": [
        "df['category'].value_counts().plot.bar()"
      ],
      "execution_count": 82,
      "outputs": [
        {
          "output_type": "execute_result",
          "data": {
            "text/plain": [
              "<matplotlib.axes._subplots.AxesSubplot at 0x7fbf2b7cba58>"
            ]
          },
          "metadata": {
            "tags": []
          },
          "execution_count": 82
        },
        {
          "output_type": "display_data",
          "data": {
            "image/png": "[encoded data removed]",
            "text/plain": [
              "<Figure size 432x288 with 1 Axes>"
            ]
          },
          "metadata": {
            "tags": [],
            "needs_background": "light"
          }
        }
      ]
    },
    {
      "cell_type": "markdown",
      "metadata": {
        "id": "B8SOMjuFBIZC"
      },
      "source": [
        "Sample image"
      ]
    },
    {
      "cell_type": "markdown",
      "metadata": {
        "id": "Zu95Vqf5ICnG"
      },
      "source": [
        "Shuffle df"
      ]
    },
    {
      "cell_type": "code",
      "metadata": {
        "id": "tOkhf8xkIEQm"
      },
      "source": [
        "# shuffle the DataFrame rows \n",
        "df = df.sample(frac = 1).reset_index(drop=True) "
      ],
      "execution_count": 83,
      "outputs": []
    },
    {
      "cell_type": "code",
      "metadata": {
        "id": "Wz6egnsyIO6G",
        "outputId": "a50e7445-e50b-4de6-aaa9-8505c5575613",
        "colab": {
          "base_uri": "https://localhost:8080/",
          "height": 203
        }
      },
      "source": [
        "df.head()"
      ],
      "execution_count": 84,
      "outputs": [
        {
          "output_type": "execute_result",
          "data": {
            "text/html": [
              "<div>\n",
              "<style scoped>\n",
              "    .dataframe tbody tr th:only-of-type {\n",
              "        vertical-align: middle;\n",
              "    }\n",
              "\n",
              "    .dataframe tbody tr th {\n",
              "        vertical-align: top;\n",
              "    }\n",
              "\n",
              "    .dataframe thead th {\n",
              "        text-align: right;\n",
              "    }\n",
              "</style>\n",
              "<table border=\"1\" class=\"dataframe\">\n",
              "  <thead>\n",
              "    <tr style=\"text-align: right;\">\n",
              "      <th></th>\n",
              "      <th>filename</th>\n",
              "      <th>category</th>\n",
              "    </tr>\n",
              "  </thead>\n",
              "  <tbody>\n",
              "    <tr>\n",
              "      <th>0</th>\n",
              "      <td>nonrumor_images/63207a53jw1ezu5w9vmm1j20c809a3...</td>\n",
              "      <td>0</td>\n",
              "    </tr>\n",
              "    <tr>\n",
              "      <th>1</th>\n",
              "      <td>nonrumor_images/620beb06gw1eznhqaixltj20c80c8a...</td>\n",
              "      <td>0</td>\n",
              "    </tr>\n",
              "    <tr>\n",
              "      <th>2</th>\n",
              "      <td>nonrumor_images/0065vuzcjw1exnnp4raypj30c80c8j...</td>\n",
              "      <td>0</td>\n",
              "    </tr>\n",
              "    <tr>\n",
              "      <th>3</th>\n",
              "      <td>nonrumor_images/470bf257gw1ev900k7h0jj20gj0gkq...</td>\n",
              "      <td>0</td>\n",
              "    </tr>\n",
              "    <tr>\n",
              "      <th>4</th>\n",
              "      <td>rumor_images/93dad53fjw1es81zh6g87j20f00qojsk.jpg</td>\n",
              "      <td>1</td>\n",
              "    </tr>\n",
              "  </tbody>\n",
              "</table>\n",
              "</div>"
            ],
            "text/plain": [
              "                                            filename  category\n",
              "0  nonrumor_images/63207a53jw1ezu5w9vmm1j20c809a3...         0\n",
              "1  nonrumor_images/620beb06gw1eznhqaixltj20c80c8a...         0\n",
              "2  nonrumor_images/0065vuzcjw1exnnp4raypj30c80c8j...         0\n",
              "3  nonrumor_images/470bf257gw1ev900k7h0jj20gj0gkq...         0\n",
              "4  rumor_images/93dad53fjw1es81zh6g87j20f00qojsk.jpg         1"
            ]
          },
          "metadata": {
            "tags": []
          },
          "execution_count": 84
        }
      ]
    },
    {
      "cell_type": "code",
      "metadata": {
        "id": "T4QGsffWIUje",
        "outputId": "9e62f281-9f86-4e8e-f825-e77d17bcd7e5",
        "colab": {
          "base_uri": "https://localhost:8080/",
          "height": 203
        }
      },
      "source": [
        "df.tail()"
      ],
      "execution_count": 85,
      "outputs": [
        {
          "output_type": "execute_result",
          "data": {
            "text/html": [
              "<div>\n",
              "<style scoped>\n",
              "    .dataframe tbody tr th:only-of-type {\n",
              "        vertical-align: middle;\n",
              "    }\n",
              "\n",
              "    .dataframe tbody tr th {\n",
              "        vertical-align: top;\n",
              "    }\n",
              "\n",
              "    .dataframe thead th {\n",
              "        text-align: right;\n",
              "    }\n",
              "</style>\n",
              "<table border=\"1\" class=\"dataframe\">\n",
              "  <thead>\n",
              "    <tr style=\"text-align: right;\">\n",
              "      <th></th>\n",
              "      <th>filename</th>\n",
              "      <th>category</th>\n",
              "    </tr>\n",
              "  </thead>\n",
              "  <tbody>\n",
              "    <tr>\n",
              "      <th>13267</th>\n",
              "      <td>rumor_images/9dcceeefjw1es88yu8gwmj20xc18gtht.jpg</td>\n",
              "      <td>1</td>\n",
              "    </tr>\n",
              "    <tr>\n",
              "      <th>13268</th>\n",
              "      <td>rumor_images/8c30bcc9jw1ep6cjbj89pj20p018g0yx.jpg</td>\n",
              "      <td>1</td>\n",
              "    </tr>\n",
              "    <tr>\n",
              "      <th>13269</th>\n",
              "      <td>rumor_images/6d8450b9jw1e0lc9tl1m5j.jpg</td>\n",
              "      <td>1</td>\n",
              "    </tr>\n",
              "    <tr>\n",
              "      <th>13270</th>\n",
              "      <td>nonrumor_images/6693ce84gw1eyyykr9wcbj20c80lst...</td>\n",
              "      <td>0</td>\n",
              "    </tr>\n",
              "    <tr>\n",
              "      <th>13271</th>\n",
              "      <td>rumor_images/006arIsYjw1ev14i3xwwmj30hs0vk0vh.jpg</td>\n",
              "      <td>1</td>\n",
              "    </tr>\n",
              "  </tbody>\n",
              "</table>\n",
              "</div>"
            ],
            "text/plain": [
              "                                                filename  category\n",
              "13267  rumor_images/9dcceeefjw1es88yu8gwmj20xc18gtht.jpg         1\n",
              "13268  rumor_images/8c30bcc9jw1ep6cjbj89pj20p018g0yx.jpg         1\n",
              "13269            rumor_images/6d8450b9jw1e0lc9tl1m5j.jpg         1\n",
              "13270  nonrumor_images/6693ce84gw1eyyykr9wcbj20c80lst...         0\n",
              "13271  rumor_images/006arIsYjw1ev14i3xwwmj30hs0vk0vh.jpg         1"
            ]
          },
          "metadata": {
            "tags": []
          },
          "execution_count": 85
        }
      ]
    },
    {
      "cell_type": "markdown",
      "metadata": {
        "id": "X28HYdciIS-O"
      },
      "source": [
        ""
      ]
    },
    {
      "cell_type": "markdown",
      "metadata": {
        "id": "RkVovi9qDrBp"
      },
      "source": [
        "Make a combined list with rumor and non rumor image paths last part"
      ]
    },
    {
      "cell_type": "code",
      "metadata": {
        "id": "QpX-qX_yGWgx",
        "outputId": "8d16b399-011e-4091-c112-54ac70eaa3db",
        "colab": {
          "base_uri": "https://localhost:8080/"
        }
      },
      "source": [
        "filenames = []\n",
        "categories = []\n",
        "for i in range(0, len(df)):\n",
        "  filenames.append(str(df['filename'][i]))\n",
        "  categories.append((df['category'][i]))\n",
        "print(len(filenames))\n",
        "print(len(categories))"
      ],
      "execution_count": 86,
      "outputs": [
        {
          "output_type": "stream",
          "text": [
            "13272\n",
            "13272\n"
          ],
          "name": "stdout"
        }
      ]
    },
    {
      "cell_type": "code",
      "metadata": {
        "id": "DQT75R37DViw",
        "outputId": "52985b74-70a2-44d0-9fa2-590de110fc69",
        "colab": {
          "base_uri": "https://localhost:8080/"
        }
      },
      "source": [
        "print(filenames[0])\n",
        "print(categories[0])\n",
        "print(filenames[-1])\n",
        "print(categories[-1])"
      ],
      "execution_count": 87,
      "outputs": [
        {
          "output_type": "stream",
          "text": [
            "nonrumor_images/63207a53jw1ezu5w9vmm1j20c809a3zk.jpg\n",
            "0\n",
            "rumor_images/006arIsYjw1ev14i3xwwmj30hs0vk0vh.jpg\n",
            "1\n"
          ],
          "name": "stdout"
        }
      ]
    },
    {
      "cell_type": "code",
      "metadata": {
        "id": "TNMAZ1nfCzsl",
        "outputId": "4f4cf5e7-faa1-4a77-d92d-2e79fb6d1ed4",
        "colab": {
          "base_uri": "https://localhost:8080/",
          "height": 304
        }
      },
      "source": [
        "sample = random.choice(filenames)\n",
        "print(sample)\n",
        "image = load_img(\"./train_extracted/MM17-WeiboRumorSet/\"+sample)\n",
        "plt.imshow(image)"
      ],
      "execution_count": 88,
      "outputs": [
        {
          "output_type": "stream",
          "text": [
            "rumor_images/005YPqw6jw1etv8znodozj30et0m8ac4.jpg\n"
          ],
          "name": "stdout"
        },
        {
          "output_type": "execute_result",
          "data": {
            "text/plain": [
              "<matplotlib.image.AxesImage at 0x7fbf90569c18>"
            ]
          },
          "metadata": {
            "tags": []
          },
          "execution_count": 88
        },
        {
          "output_type": "display_data",
          "data": {
            "image/png": "[encoded data removed]",
            "text/plain": [
              "<Figure size 432x288 with 1 Axes>"
            ]
          },
          "metadata": {
            "tags": [],
            "needs_background": "light"
          }
        }
      ]
    },
    {
      "cell_type": "markdown",
      "metadata": {
        "id": "3XiFNN94EAWH"
      },
      "source": [
        "Build Model\n",
        "\n",
        "\n",
        "Input Layer: It represent input image data. It will reshape image into single diminsion array. Example your image is 64x64 = 4096, it will convert to (4096,1) array.\n",
        "\n",
        "Conv Layer: This layer will extract features from image.\n",
        "\n",
        "Pooling Layer: This layerreduce the spatial volume of input image after convolution.\n",
        "\n",
        "Fully Connected Layer: It connect the network from a layer to another layer\n",
        "\n",
        "Output Layer: It is the predicted values layer."
      ]
    },
    {
      "cell_type": "code",
      "metadata": {
        "id": "XEFX8V1lDf6d",
        "outputId": "4e387607-8783-44f6-f6fa-42bcea7253f7",
        "colab": {
          "base_uri": "https://localhost:8080/"
        }
      },
      "source": [
        "from keras.models import Sequential\n",
        "from keras.layers import Conv2D, MaxPooling2D, Dropout, Flatten, Dense, Activation, BatchNormalization\n",
        "\n",
        "model = Sequential()\n",
        "\n",
        "model.add(Conv2D(32, (3, 3), activation='relu', input_shape=(IMAGE_WIDTH, IMAGE_HEIGHT, IMAGE_CHANNELS)))\n",
        "model.add(BatchNormalization())\n",
        "model.add(MaxPooling2D(pool_size=(2, 2)))\n",
        "model.add(Dropout(0.25))\n",
        "\n",
        "model.add(Flatten())\n",
        "model.add(Dense(512, activation='relu'))\n",
        "model.add(BatchNormalization())\n",
        "model.add(Dropout(0.5))\n",
        "model.add(Dense(2, activation='softmax')) # 2 because we have cat and dog classes\n",
        "\n",
        "model.compile(loss='categorical_crossentropy', optimizer='rmsprop', metrics=['accuracy'])\n",
        "\n",
        "model.summary()"
      ],
      "execution_count": 89,
      "outputs": [
        {
          "output_type": "stream",
          "text": [
            "Model: \"sequential_1\"\n",
            "_________________________________________________________________\n",
            "Layer (type)                 Output Shape              Param #   \n",
            "=================================================================\n",
            "conv2d_1 (Conv2D)            (None, 126, 126, 32)      896       \n",
            "_________________________________________________________________\n",
            "batch_normalization_2 (Batch (None, 126, 126, 32)      128       \n",
            "_________________________________________________________________\n",
            "max_pooling2d_1 (MaxPooling2 (None, 63, 63, 32)        0         \n",
            "_________________________________________________________________\n",
            "dropout_2 (Dropout)          (None, 63, 63, 32)        0         \n",
            "_________________________________________________________________\n",
            "flatten_1 (Flatten)          (None, 127008)            0         \n",
            "_________________________________________________________________\n",
            "dense_2 (Dense)              (None, 512)               65028608  \n",
            "_________________________________________________________________\n",
            "batch_normalization_3 (Batch (None, 512)               2048      \n",
            "_________________________________________________________________\n",
            "dropout_3 (Dropout)          (None, 512)               0         \n",
            "_________________________________________________________________\n",
            "dense_3 (Dense)              (None, 2)                 1026      \n",
            "=================================================================\n",
            "Total params: 65,032,706\n",
            "Trainable params: 65,031,618\n",
            "Non-trainable params: 1,088\n",
            "_________________________________________________________________\n"
          ],
          "name": "stdout"
        }
      ]
    },
    {
      "cell_type": "markdown",
      "metadata": {
        "id": "GTsRkNZlEp9S"
      },
      "source": [
        "Callbacks"
      ]
    },
    {
      "cell_type": "code",
      "metadata": {
        "id": "v9olGx-1Elzn"
      },
      "source": [
        "from keras.callbacks import EarlyStopping, ReduceLROnPlateau"
      ],
      "execution_count": 90,
      "outputs": []
    },
    {
      "cell_type": "markdown",
      "metadata": {
        "id": "vlLvxlhiEwcY"
      },
      "source": [
        "Early Stop\n",
        "\n",
        "To prevent over fitting we will stop the learning after 10 epochs and val_loss value not decreased"
      ]
    },
    {
      "cell_type": "code",
      "metadata": {
        "id": "1myMXGP7Et10"
      },
      "source": [
        "earlystop = EarlyStopping(patience=10)"
      ],
      "execution_count": 91,
      "outputs": []
    },
    {
      "cell_type": "markdown",
      "metadata": {
        "id": "HAFClnwJE3VD"
      },
      "source": [
        "Learning Rate Reduction\n",
        "\n",
        "We will reduce the learning rate when then accuracy not increase for 2 steps"
      ]
    },
    {
      "cell_type": "code",
      "metadata": {
        "id": "9iT9fy0TE1Yb"
      },
      "source": [
        "learning_rate_reduction = ReduceLROnPlateau(monitor='val_accuracy', \n",
        "                                            patience=2, \n",
        "                                            verbose=1, \n",
        "                                            factor=0.5, \n",
        "                                            min_lr=0.00001)"
      ],
      "execution_count": 92,
      "outputs": []
    },
    {
      "cell_type": "code",
      "metadata": {
        "id": "30fgqmTjE6aT"
      },
      "source": [
        "callbacks = [earlystop, learning_rate_reduction]"
      ],
      "execution_count": 93,
      "outputs": []
    },
    {
      "cell_type": "markdown",
      "metadata": {
        "id": "Ilc_GkWHFHXY"
      },
      "source": [
        "Prepare data\n",
        "\n",
        "Because we will use image genaretor with class_mode=\"categorical\". We need to convert column category into string. Then imagenerator will convert it one-hot encoding which is good for our classification.\n",
        "\n",
        "So we will convert 1 to rumor and 0 to nonrumor"
      ]
    },
    {
      "cell_type": "code",
      "metadata": {
        "id": "x4vPWpOwE9ss"
      },
      "source": [
        "df[\"category\"] = df[\"category\"].replace({0: 'nonrumor', 1: 'rumor'}) "
      ],
      "execution_count": 94,
      "outputs": []
    },
    {
      "cell_type": "code",
      "metadata": {
        "id": "IYBab-iIIkHP",
        "outputId": "d312c98c-a495-4136-b532-b4c38292c87d",
        "colab": {
          "base_uri": "https://localhost:8080/",
          "height": 203
        }
      },
      "source": [
        "df.head()"
      ],
      "execution_count": 95,
      "outputs": [
        {
          "output_type": "execute_result",
          "data": {
            "text/html": [
              "<div>\n",
              "<style scoped>\n",
              "    .dataframe tbody tr th:only-of-type {\n",
              "        vertical-align: middle;\n",
              "    }\n",
              "\n",
              "    .dataframe tbody tr th {\n",
              "        vertical-align: top;\n",
              "    }\n",
              "\n",
              "    .dataframe thead th {\n",
              "        text-align: right;\n",
              "    }\n",
              "</style>\n",
              "<table border=\"1\" class=\"dataframe\">\n",
              "  <thead>\n",
              "    <tr style=\"text-align: right;\">\n",
              "      <th></th>\n",
              "      <th>filename</th>\n",
              "      <th>category</th>\n",
              "    </tr>\n",
              "  </thead>\n",
              "  <tbody>\n",
              "    <tr>\n",
              "      <th>0</th>\n",
              "      <td>nonrumor_images/63207a53jw1ezu5w9vmm1j20c809a3...</td>\n",
              "      <td>nonrumor</td>\n",
              "    </tr>\n",
              "    <tr>\n",
              "      <th>1</th>\n",
              "      <td>nonrumor_images/620beb06gw1eznhqaixltj20c80c8a...</td>\n",
              "      <td>nonrumor</td>\n",
              "    </tr>\n",
              "    <tr>\n",
              "      <th>2</th>\n",
              "      <td>nonrumor_images/0065vuzcjw1exnnp4raypj30c80c8j...</td>\n",
              "      <td>nonrumor</td>\n",
              "    </tr>\n",
              "    <tr>\n",
              "      <th>3</th>\n",
              "      <td>nonrumor_images/470bf257gw1ev900k7h0jj20gj0gkq...</td>\n",
              "      <td>nonrumor</td>\n",
              "    </tr>\n",
              "    <tr>\n",
              "      <th>4</th>\n",
              "      <td>rumor_images/93dad53fjw1es81zh6g87j20f00qojsk.jpg</td>\n",
              "      <td>rumor</td>\n",
              "    </tr>\n",
              "  </tbody>\n",
              "</table>\n",
              "</div>"
            ],
            "text/plain": [
              "                                            filename  category\n",
              "0  nonrumor_images/63207a53jw1ezu5w9vmm1j20c809a3...  nonrumor\n",
              "1  nonrumor_images/620beb06gw1eznhqaixltj20c80c8a...  nonrumor\n",
              "2  nonrumor_images/0065vuzcjw1exnnp4raypj30c80c8j...  nonrumor\n",
              "3  nonrumor_images/470bf257gw1ev900k7h0jj20gj0gkq...  nonrumor\n",
              "4  rumor_images/93dad53fjw1es81zh6g87j20f00qojsk.jpg     rumor"
            ]
          },
          "metadata": {
            "tags": []
          },
          "execution_count": 95
        }
      ]
    },
    {
      "cell_type": "markdown",
      "metadata": {
        "id": "9vGd-5OuJxGK"
      },
      "source": [
        "Divide into 80% train and 20% test, Note that we have shuffled earlier"
      ]
    },
    {
      "cell_type": "code",
      "metadata": {
        "id": "PHvSkqYpIlEC",
        "outputId": "fcb3592c-2fbf-41d2-b919-d922e1793303",
        "colab": {
          "base_uri": "https://localhost:8080/"
        }
      },
      "source": [
        "mid = int(len(df)*0.8)\n",
        "df_train = df[:mid]\n",
        "df_test = df[mid:]\n",
        "print(len(df_train))\n",
        "print(len(df_test))"
      ],
      "execution_count": 96,
      "outputs": [
        {
          "output_type": "stream",
          "text": [
            "10617\n",
            "2655\n"
          ],
          "name": "stdout"
        }
      ]
    },
    {
      "cell_type": "code",
      "metadata": {
        "id": "JdHhrULaJytp"
      },
      "source": [
        "train_df, validate_df = train_test_split(df_train, test_size=0.20, random_state=42)\n",
        "train_df = train_df.reset_index(drop=True)\n",
        "validate_df = validate_df.reset_index(drop=True)"
      ],
      "execution_count": 97,
      "outputs": []
    },
    {
      "cell_type": "code",
      "metadata": {
        "id": "89DDqmY2lXn1"
      },
      "source": [
        ""
      ],
      "execution_count": 97,
      "outputs": []
    },
    {
      "cell_type": "code",
      "metadata": {
        "id": "U_vv7UUvJ06a",
        "outputId": "ab33d3ec-3cea-4488-d74b-a1a432fa7e39",
        "colab": {
          "base_uri": "https://localhost:8080/",
          "height": 321
        }
      },
      "source": [
        "train_df['category'].value_counts().plot.bar()"
      ],
      "execution_count": 98,
      "outputs": [
        {
          "output_type": "execute_result",
          "data": {
            "text/plain": [
              "<matplotlib.axes._subplots.AxesSubplot at 0x7fbf905a2518>"
            ]
          },
          "metadata": {
            "tags": []
          },
          "execution_count": 98
        },
        {
          "output_type": "display_data",
          "data": {
            "image/png": "[encoded data removed]",
            "text/plain": [
              "<Figure size 432x288 with 1 Axes>"
            ]
          },
          "metadata": {
            "tags": [],
            "needs_background": "light"
          }
        }
      ]
    },
    {
      "cell_type": "code",
      "metadata": {
        "id": "Ehgi-u8KJ4oi",
        "outputId": "28cbf940-afa4-4f10-dd20-7387884561a8",
        "colab": {
          "base_uri": "https://localhost:8080/",
          "height": 321
        }
      },
      "source": [
        "validate_df['category'].value_counts().plot.bar()"
      ],
      "execution_count": 99,
      "outputs": [
        {
          "output_type": "execute_result",
          "data": {
            "text/plain": [
              "<matplotlib.axes._subplots.AxesSubplot at 0x7fbf904d4470>"
            ]
          },
          "metadata": {
            "tags": []
          },
          "execution_count": 99
        },
        {
          "output_type": "display_data",
          "data": {
            "image/png": "[encoded data removed]",
            "text/plain": [
              "<Figure size 432x288 with 1 Axes>"
            ]
          },
          "metadata": {
            "tags": [],
            "needs_background": "light"
          }
        }
      ]
    },
    {
      "cell_type": "code",
      "metadata": {
        "id": "QSP4mXwoJ8Ph"
      },
      "source": [
        "total_train = train_df.shape[0]\n",
        "total_validate = validate_df.shape[0]\n",
        "batch_size=32"
      ],
      "execution_count": 100,
      "outputs": []
    },
    {
      "cell_type": "markdown",
      "metadata": {
        "id": "UYUi4feTKBcc"
      },
      "source": [
        "Traning Generator"
      ]
    },
    {
      "cell_type": "code",
      "metadata": {
        "id": "d_ojPtyjJ-qR",
        "outputId": "d60e53d3-d1b4-446c-dc63-461e68331664",
        "colab": {
          "base_uri": "https://localhost:8080/"
        }
      },
      "source": [
        "train_datagen = ImageDataGenerator(\n",
        "    rotation_range=15,\n",
        "    rescale=1./255,\n",
        "    shear_range=0.1,\n",
        "    zoom_range=0.2,\n",
        "    horizontal_flip=True,\n",
        "    width_shift_range=0.1,\n",
        "    height_shift_range=0.1\n",
        ")\n",
        "\n",
        "train_generator = train_datagen.flow_from_dataframe(\n",
        "    train_df, \n",
        "    \"./train_extracted/MM17-WeiboRumorSet/\", \n",
        "    x_col='filename',\n",
        "    y_col='category',\n",
        "    target_size=IMAGE_SIZE,\n",
        "    class_mode='categorical',\n",
        "    batch_size=batch_size\n",
        ")"
      ],
      "execution_count": 101,
      "outputs": [
        {
          "output_type": "stream",
          "text": [
            "Found 8477 validated image filenames belonging to 2 classes.\n"
          ],
          "name": "stdout"
        },
        {
          "output_type": "stream",
          "text": [
            "/usr/local/lib/python3.6/dist-packages/keras_preprocessing/image/dataframe_iterator.py:282: UserWarning: Found 16 invalid image filename(s) in x_col=\"filename\". These filename(s) will be ignored.\n",
            "  .format(n_invalid, x_col)\n"
          ],
          "name": "stderr"
        }
      ]
    },
    {
      "cell_type": "markdown",
      "metadata": {
        "id": "llVLhuxYKh2N"
      },
      "source": [
        "Validation Generator"
      ]
    },
    {
      "cell_type": "code",
      "metadata": {
        "id": "ijwdyzmvKc4Y",
        "outputId": "5379221a-3e5a-43ce-ab46-666d1e1a6e53",
        "colab": {
          "base_uri": "https://localhost:8080/"
        }
      },
      "source": [
        "validation_datagen = ImageDataGenerator(rescale=1./255)\n",
        "validation_generator = validation_datagen.flow_from_dataframe(\n",
        "    validate_df, \n",
        "    \"./train_extracted/MM17-WeiboRumorSet/\", \n",
        "    x_col='filename',\n",
        "    y_col='category',\n",
        "    target_size=IMAGE_SIZE,\n",
        "    class_mode='categorical',\n",
        "    batch_size=batch_size\n",
        ")"
      ],
      "execution_count": 102,
      "outputs": [
        {
          "output_type": "stream",
          "text": [
            "Found 2121 validated image filenames belonging to 2 classes.\n"
          ],
          "name": "stdout"
        },
        {
          "output_type": "stream",
          "text": [
            "/usr/local/lib/python3.6/dist-packages/keras_preprocessing/image/dataframe_iterator.py:282: UserWarning: Found 3 invalid image filename(s) in x_col=\"filename\". These filename(s) will be ignored.\n",
            "  .format(n_invalid, x_col)\n"
          ],
          "name": "stderr"
        }
      ]
    },
    {
      "cell_type": "markdown",
      "metadata": {
        "id": "mVVVotrcK2P7"
      },
      "source": [
        "See how our generator work"
      ]
    },
    {
      "cell_type": "code",
      "metadata": {
        "id": "VtfGbdKXKs_B",
        "outputId": "ae0f4995-a014-4946-81ac-6f3e56672a5a",
        "colab": {
          "base_uri": "https://localhost:8080/"
        }
      },
      "source": [
        "example_df = train_df.sample(n=1).reset_index(drop=True)\n",
        "example_generator = train_datagen.flow_from_dataframe(\n",
        "    example_df, \n",
        "    \"./train_extracted/MM17-WeiboRumorSet/\", \n",
        "    x_col='filename',\n",
        "    y_col='category',\n",
        "    target_size=IMAGE_SIZE,\n",
        "    class_mode='categorical'\n",
        ")"
      ],
      "execution_count": 103,
      "outputs": [
        {
          "output_type": "stream",
          "text": [
            "Found 1 validated image filenames belonging to 1 classes.\n"
          ],
          "name": "stdout"
        }
      ]
    },
    {
      "cell_type": "markdown",
      "metadata": {
        "id": "IgVpi6rfLOVh"
      },
      "source": [
        "Seems great"
      ]
    },
    {
      "cell_type": "markdown",
      "metadata": {
        "id": "G4bJtNoKLQNf"
      },
      "source": [
        "Fit Model"
      ]
    },
    {
      "cell_type": "code",
      "metadata": {
        "id": "iJW0H0FJOFoG"
      },
      "source": [
        "FAST_RUN = False"
      ],
      "execution_count": 104,
      "outputs": []
    },
    {
      "cell_type": "code",
      "metadata": {
        "id": "iYK7nnTtLE6y",
        "outputId": "55e1f0de-b1b0-421d-81cc-0760f9e8d731",
        "colab": {
          "base_uri": "https://localhost:8080/"
        }
      },
      "source": [
        "epochs=3 if FAST_RUN else 20\n",
        "history = model.fit_generator(\n",
        "    train_generator, \n",
        "    epochs=epochs,\n",
        "    validation_data=validation_generator,\n",
        "    validation_steps=total_validate//batch_size,\n",
        "    steps_per_epoch=total_train//batch_size,\n",
        "    callbacks=callbacks\n",
        ")"
      ],
      "execution_count": 41,
      "outputs": [
        {
          "output_type": "stream",
          "text": [
            "WARNING:tensorflow:From <ipython-input-41-28f6c98b1462>:8: Model.fit_generator (from tensorflow.python.keras.engine.training) is deprecated and will be removed in a future version.\n",
            "Instructions for updating:\n",
            "Please use Model.fit, which supports generators.\n",
            "Epoch 1/20\n",
            "566/566 [==============================] - 110s 194ms/step - loss: 0.9429 - accuracy: 0.5629 - val_loss: 0.6493 - val_accuracy: 0.6212\n",
            "Epoch 2/20\n",
            "566/566 [==============================] - 109s 192ms/step - loss: 0.7096 - accuracy: 0.5798 - val_loss: 0.6655 - val_accuracy: 0.6132\n",
            "Epoch 3/20\n",
            "566/566 [==============================] - ETA: 0s - loss: 0.6844 - accuracy: 0.5897\n",
            "Epoch 00003: ReduceLROnPlateau reducing learning rate to 0.0005000000237487257.\n",
            "566/566 [==============================] - 108s 191ms/step - loss: 0.6844 - accuracy: 0.5897 - val_loss: 0.6477 - val_accuracy: 0.6065\n",
            "Epoch 4/20\n",
            "566/566 [==============================] - 107s 190ms/step - loss: 0.6593 - accuracy: 0.6039 - val_loss: 0.6372 - val_accuracy: 0.6222\n",
            "Epoch 5/20\n",
            "566/566 [==============================] - 106s 188ms/step - loss: 0.6515 - accuracy: 0.6061 - val_loss: 0.6298 - val_accuracy: 0.6435\n",
            "Epoch 6/20\n",
            "566/566 [==============================] - 106s 187ms/step - loss: 0.6515 - accuracy: 0.6106 - val_loss: 0.6626 - val_accuracy: 0.6312\n",
            "Epoch 7/20\n",
            "566/566 [==============================] - 106s 187ms/step - loss: 0.6419 - accuracy: 0.6193 - val_loss: 0.6236 - val_accuracy: 0.6544\n",
            "Epoch 8/20\n",
            "566/566 [==============================] - 106s 187ms/step - loss: 0.6410 - accuracy: 0.6246 - val_loss: 0.6313 - val_accuracy: 0.6596\n",
            "Epoch 9/20\n",
            "566/566 [==============================] - 108s 191ms/step - loss: 0.6414 - accuracy: 0.6280 - val_loss: 0.6339 - val_accuracy: 0.6643\n",
            "Epoch 10/20\n",
            "566/566 [==============================] - 107s 189ms/step - loss: 0.6434 - accuracy: 0.6208 - val_loss: 0.6057 - val_accuracy: 0.6766\n",
            "Epoch 11/20\n",
            "566/566 [==============================] - 108s 190ms/step - loss: 0.6361 - accuracy: 0.6280 - val_loss: 0.6566 - val_accuracy: 0.6364\n",
            "Epoch 12/20\n",
            "566/566 [==============================] - 108s 191ms/step - loss: 0.6345 - accuracy: 0.6332 - val_loss: 0.5952 - val_accuracy: 0.6799\n",
            "Epoch 13/20\n",
            "566/566 [==============================] - 107s 190ms/step - loss: 0.6367 - accuracy: 0.6284 - val_loss: 0.6208 - val_accuracy: 0.6671\n",
            "Epoch 14/20\n",
            "566/566 [==============================] - ETA: 0s - loss: 0.6346 - accuracy: 0.6264\n",
            "Epoch 00014: ReduceLROnPlateau reducing learning rate to 0.0002500000118743628.\n",
            "566/566 [==============================] - 107s 189ms/step - loss: 0.6346 - accuracy: 0.6264 - val_loss: 0.6167 - val_accuracy: 0.6629\n",
            "Epoch 15/20\n",
            "566/566 [==============================] - 109s 192ms/step - loss: 0.6237 - accuracy: 0.6358 - val_loss: 0.6093 - val_accuracy: 0.6894\n",
            "Epoch 16/20\n",
            "566/566 [==============================] - 111s 196ms/step - loss: 0.6175 - accuracy: 0.6431 - val_loss: 0.6200 - val_accuracy: 0.6771\n",
            "Epoch 17/20\n",
            "566/566 [==============================] - ETA: 0s - loss: 0.6193 - accuracy: 0.6429\n",
            "Epoch 00017: ReduceLROnPlateau reducing learning rate to 0.0001250000059371814.\n",
            "566/566 [==============================] - 112s 197ms/step - loss: 0.6193 - accuracy: 0.6429 - val_loss: 0.6048 - val_accuracy: 0.6842\n",
            "Epoch 18/20\n",
            "566/566 [==============================] - 113s 199ms/step - loss: 0.6162 - accuracy: 0.6472 - val_loss: 0.6055 - val_accuracy: 0.6889\n",
            "Epoch 19/20\n",
            "566/566 [==============================] - ETA: 0s - loss: 0.6067 - accuracy: 0.6615\n",
            "Epoch 00019: ReduceLROnPlateau reducing learning rate to 6.25000029685907e-05.\n",
            "566/566 [==============================] - 112s 197ms/step - loss: 0.6067 - accuracy: 0.6615 - val_loss: 0.6265 - val_accuracy: 0.6884\n",
            "Epoch 20/20\n",
            "566/566 [==============================] - 111s 196ms/step - loss: 0.6069 - accuracy: 0.6562 - val_loss: 0.6073 - val_accuracy: 0.6922\n"
          ],
          "name": "stdout"
        }
      ]
    },
    {
      "cell_type": "markdown",
      "metadata": {
        "id": "hqmvDWKSO2-w"
      },
      "source": [
        "Save Model"
      ]
    },
    {
      "cell_type": "code",
      "metadata": {
        "id": "3HUVXwMKO3gJ"
      },
      "source": [
        "model.save_weights(\"model.h5\")"
      ],
      "execution_count": 42,
      "outputs": []
    },
    {
      "cell_type": "code",
      "metadata": {
        "id": "t9gbIiI3VHfZ"
      },
      "source": [
        "model.save_weights(\"1_Conv_layers_1_COMP5331_Initial_Full_Classifier_Ayush_10102020Rumor_Nonrumor_50epochs_model.h5\")"
      ],
      "execution_count": 106,
      "outputs": []
    },
    {
      "cell_type": "code",
      "metadata": {
        "id": "eQw6YuLRq3tT"
      },
      "source": [
        "# saving the dataframe \n",
        "df.to_csv('1_Conv_layers_1_COMP5331_Initial_Full_Classifier_Ayush_10102020df_5331.csv') "
      ],
      "execution_count": 107,
      "outputs": []
    },
    {
      "cell_type": "code",
      "metadata": {
        "id": "RJ70WX4tq8s1"
      },
      "source": [
        "# saving the dataframe \n",
        "df_train.to_csv('1_Conv_layers_1_COMP5331_Initial_Full_Classifier_Ayush_10102020df_train_5331.csv')\n",
        "# saving the dataframe \n",
        "df_test.to_csv('1_Conv_layers_1_COMP5331_Initial_Full_Classifier_Ayush_10102020df_test_5331.csv') "
      ],
      "execution_count": 108,
      "outputs": []
    },
    {
      "cell_type": "code",
      "metadata": {
        "id": "K3if-P8VVMLZ",
        "outputId": "2c2ff0ec-c53b-4345-afed-f44ad04ff386",
        "colab": {
          "base_uri": "https://localhost:8080/",
          "height": 51
        }
      },
      "source": [
        "from google.colab import files\n",
        "files.download('1_Conv_layers_1_COMP5331_Initial_Full_Classifier_Ayush_10102020Rumor_Nonrumor_50epochs_model.h5') "
      ],
      "execution_count": 109,
      "outputs": [
        {
          "output_type": "display_data",
          "data": {
            "application/javascript": [
              "\n",
              "    async function download(id, filename, size) {\n",
              "      if (!google.colab.kernel.accessAllowed) {\n",
              "        return;\n",
              "      }\n",
              "      const div = document.createElement('div');\n",
              "      const label = document.createElement('label');\n",
              "      label.textContent = `Downloading \"${filename}\": `;\n",
              "      div.appendChild(label);\n",
              "      const progress = document.createElement('progress');\n",
              "      progress.max = size;\n",
              "      div.appendChild(progress);\n",
              "      document.body.appendChild(div);\n",
              "\n",
              "      const buffers = [];\n",
              "      let downloaded = 0;\n",
              "\n",
              "      const channel = await google.colab.kernel.comms.open(id);\n",
              "      // Send a message to notify the kernel that we're ready.\n",
              "      channel.send({})\n",
              "\n",
              "      for await (const message of channel.messages) {\n",
              "        // Send a message to notify the kernel that we're ready.\n",
              "        channel.send({})\n",
              "        if (message.buffers) {\n",
              "          for (const buffer of message.buffers) {\n",
              "            buffers.push(buffer);\n",
              "            downloaded += buffer.byteLength;\n",
              "            progress.value = downloaded;\n",
              "          }\n",
              "        }\n",
              "      }\n",
              "      const blob = new Blob(buffers, {type: 'application/binary'});\n",
              "      const a = document.createElement('a');\n",
              "      a.href = window.URL.createObjectURL(blob);\n",
              "      a.download = filename;\n",
              "      div.appendChild(a);\n",
              "      a.click();\n",
              "      div.remove();\n",
              "    }\n",
              "  "
            ],
            "text/plain": [
              "<IPython.core.display.Javascript object>"
            ]
          },
          "metadata": {
            "tags": []
          }
        },
        {
          "output_type": "display_data",
          "data": {
            "application/javascript": [
              "download(\"download_b3d3e1f5-ed7b-4a52-a8c6-4fc88aa4c2d2\", \"1_Conv_layers_1_COMP5331_Initial_Full_Classifier_Ayush_10102020Rumor_Nonrumor_50epochs_model.h5\", 260156856)"
            ],
            "text/plain": [
              "<IPython.core.display.Javascript object>"
            ]
          },
          "metadata": {
            "tags": []
          }
        }
      ]
    },
    {
      "cell_type": "code",
      "metadata": {
        "id": "fabeuti9rJgv",
        "outputId": "1ef2a846-3121-4741-d8fa-c8b522421d8f",
        "colab": {
          "base_uri": "https://localhost:8080/",
          "height": 17
        }
      },
      "source": [
        "files.download('1_Conv_layers_1_COMP5331_Initial_Full_Classifier_Ayush_10102020df_5331.csv') \n",
        "files.download('1_Conv_layers_1_COMP5331_Initial_Full_Classifier_Ayush_10102020df_train_5331.csv') \n",
        "files.download('1_Conv_layers_1_COMP5331_Initial_Full_Classifier_Ayush_10102020df_test_5331.csv') "
      ],
      "execution_count": 110,
      "outputs": [
        {
          "output_type": "display_data",
          "data": {
            "application/javascript": [
              "\n",
              "    async function download(id, filename, size) {\n",
              "      if (!google.colab.kernel.accessAllowed) {\n",
              "        return;\n",
              "      }\n",
              "      const div = document.createElement('div');\n",
              "      const label = document.createElement('label');\n",
              "      label.textContent = `Downloading \"${filename}\": `;\n",
              "      div.appendChild(label);\n",
              "      const progress = document.createElement('progress');\n",
              "      progress.max = size;\n",
              "      div.appendChild(progress);\n",
              "      document.body.appendChild(div);\n",
              "\n",
              "      const buffers = [];\n",
              "      let downloaded = 0;\n",
              "\n",
              "      const channel = await google.colab.kernel.comms.open(id);\n",
              "      // Send a message to notify the kernel that we're ready.\n",
              "      channel.send({})\n",
              "\n",
              "      for await (const message of channel.messages) {\n",
              "        // Send a message to notify the kernel that we're ready.\n",
              "        channel.send({})\n",
              "        if (message.buffers) {\n",
              "          for (const buffer of message.buffers) {\n",
              "            buffers.push(buffer);\n",
              "            downloaded += buffer.byteLength;\n",
              "            progress.value = downloaded;\n",
              "          }\n",
              "        }\n",
              "      }\n",
              "      const blob = new Blob(buffers, {type: 'application/binary'});\n",
              "      const a = document.createElement('a');\n",
              "      a.href = window.URL.createObjectURL(blob);\n",
              "      a.download = filename;\n",
              "      div.appendChild(a);\n",
              "      a.click();\n",
              "      div.remove();\n",
              "    }\n",
              "  "
            ],
            "text/plain": [
              "<IPython.core.display.Javascript object>"
            ]
          },
          "metadata": {
            "tags": []
          }
        },
        {
          "output_type": "display_data",
          "data": {
            "application/javascript": [
              "download(\"download_841ca313-e3e7-4627-ab9a-f6396ac5fc1b\", \"1_Conv_layers_1_COMP5331_Initial_Full_Classifier_Ayush_10102020df_5331.csv\", 830161)"
            ],
            "text/plain": [
              "<IPython.core.display.Javascript object>"
            ]
          },
          "metadata": {
            "tags": []
          }
        },
        {
          "output_type": "display_data",
          "data": {
            "application/javascript": [
              "\n",
              "    async function download(id, filename, size) {\n",
              "      if (!google.colab.kernel.accessAllowed) {\n",
              "        return;\n",
              "      }\n",
              "      const div = document.createElement('div');\n",
              "      const label = document.createElement('label');\n",
              "      label.textContent = `Downloading \"${filename}\": `;\n",
              "      div.appendChild(label);\n",
              "      const progress = document.createElement('progress');\n",
              "      progress.max = size;\n",
              "      div.appendChild(progress);\n",
              "      document.body.appendChild(div);\n",
              "\n",
              "      const buffers = [];\n",
              "      let downloaded = 0;\n",
              "\n",
              "      const channel = await google.colab.kernel.comms.open(id);\n",
              "      // Send a message to notify the kernel that we're ready.\n",
              "      channel.send({})\n",
              "\n",
              "      for await (const message of channel.messages) {\n",
              "        // Send a message to notify the kernel that we're ready.\n",
              "        channel.send({})\n",
              "        if (message.buffers) {\n",
              "          for (const buffer of message.buffers) {\n",
              "            buffers.push(buffer);\n",
              "            downloaded += buffer.byteLength;\n",
              "            progress.value = downloaded;\n",
              "          }\n",
              "        }\n",
              "      }\n",
              "      const blob = new Blob(buffers, {type: 'application/binary'});\n",
              "      const a = document.createElement('a');\n",
              "      a.href = window.URL.createObjectURL(blob);\n",
              "      a.download = filename;\n",
              "      div.appendChild(a);\n",
              "      a.click();\n",
              "      div.remove();\n",
              "    }\n",
              "  "
            ],
            "text/plain": [
              "<IPython.core.display.Javascript object>"
            ]
          },
          "metadata": {
            "tags": []
          }
        },
        {
          "output_type": "display_data",
          "data": {
            "application/javascript": [
              "download(\"download_f3c7e268-bce6-409e-8f96-3674e8cd66b8\", \"1_Conv_layers_1_COMP5331_Initial_Full_Classifier_Ayush_10102020df_train_5331.csv\", 662075)"
            ],
            "text/plain": [
              "<IPython.core.display.Javascript object>"
            ]
          },
          "metadata": {
            "tags": []
          }
        },
        {
          "output_type": "display_data",
          "data": {
            "application/javascript": [
              "\n",
              "    async function download(id, filename, size) {\n",
              "      if (!google.colab.kernel.accessAllowed) {\n",
              "        return;\n",
              "      }\n",
              "      const div = document.createElement('div');\n",
              "      const label = document.createElement('label');\n",
              "      label.textContent = `Downloading \"${filename}\": `;\n",
              "      div.appendChild(label);\n",
              "      const progress = document.createElement('progress');\n",
              "      progress.max = size;\n",
              "      div.appendChild(progress);\n",
              "      document.body.appendChild(div);\n",
              "\n",
              "      const buffers = [];\n",
              "      let downloaded = 0;\n",
              "\n",
              "      const channel = await google.colab.kernel.comms.open(id);\n",
              "      // Send a message to notify the kernel that we're ready.\n",
              "      channel.send({})\n",
              "\n",
              "      for await (const message of channel.messages) {\n",
              "        // Send a message to notify the kernel that we're ready.\n",
              "        channel.send({})\n",
              "        if (message.buffers) {\n",
              "          for (const buffer of message.buffers) {\n",
              "            buffers.push(buffer);\n",
              "            downloaded += buffer.byteLength;\n",
              "            progress.value = downloaded;\n",
              "          }\n",
              "        }\n",
              "      }\n",
              "      const blob = new Blob(buffers, {type: 'application/binary'});\n",
              "      const a = document.createElement('a');\n",
              "      a.href = window.URL.createObjectURL(blob);\n",
              "      a.download = filename;\n",
              "      div.appendChild(a);\n",
              "      a.click();\n",
              "      div.remove();\n",
              "    }\n",
              "  "
            ],
            "text/plain": [
              "<IPython.core.display.Javascript object>"
            ]
          },
          "metadata": {
            "tags": []
          }
        },
        {
          "output_type": "display_data",
          "data": {
            "application/javascript": [
              "download(\"download_17450a16-e554-4c41-b8a9-614b96bbb002\", \"1_Conv_layers_1_COMP5331_Initial_Full_Classifier_Ayush_10102020df_test_5331.csv\", 168105)"
            ],
            "text/plain": [
              "<IPython.core.display.Javascript object>"
            ]
          },
          "metadata": {
            "tags": []
          }
        }
      ]
    },
    {
      "cell_type": "code",
      "metadata": {
        "id": "jtoywaWXkraL",
        "outputId": "c794fc41-69ad-4119-b392-919c4fdd3626",
        "colab": {
          "base_uri": "https://localhost:8080/"
        }
      },
      "source": [
        "model.load_weights(\"model.h5\")\n",
        "print(\"Loaded model from disk\")"
      ],
      "execution_count": 48,
      "outputs": [
        {
          "output_type": "stream",
          "text": [
            "Loaded model from disk\n"
          ],
          "name": "stdout"
        }
      ]
    },
    {
      "cell_type": "markdown",
      "metadata": {
        "id": "oxt6QQ-hO8PG"
      },
      "source": [
        "Visualize Training"
      ]
    },
    {
      "cell_type": "code",
      "metadata": {
        "id": "4NJQxiabO5h8",
        "outputId": "7761424c-5f59-40ff-fa3a-0c41803f5c92",
        "colab": {
          "base_uri": "https://localhost:8080/",
          "height": 873
        }
      },
      "source": [
        "fig, (ax1, ax2) = plt.subplots(2, 1, figsize=(12, 12))\n",
        "ax1.plot(history.history['loss'], color='b', label=\"Training loss\")\n",
        "ax1.plot(history.history['val_loss'], color='r', label=\"validation loss\")\n",
        "ax1.set_xticks(np.arange(1, epochs, 1))\n",
        "ax1.set_yticks(np.arange(0, 1, 0.1))\n",
        "\n",
        "ax2.plot(history.history['accuracy'], color='b', label=\"Training accuracy\")\n",
        "ax2.plot(history.history['val_accuracy'], color='r',label=\"Validation accuracy\")\n",
        "ax2.set_xticks(np.arange(1, epochs, 1))\n",
        "\n",
        "legend = plt.legend(loc='best', shadow=True)\n",
        "plt.tight_layout()\n",
        "plt.show()"
      ],
      "execution_count": 49,
      "outputs": [
        {
          "output_type": "display_data",
          "data": {
            "image/png": "[encoded data removed]",
            "text/plain": [
              "<Figure size 864x864 with 2 Axes>"
            ]
          },
          "metadata": {
            "tags": [],
            "needs_background": "light"
          }
        }
      ]
    },
    {
      "cell_type": "markdown",
      "metadata": {
        "id": "C6oe8cu2PIPc"
      },
      "source": [
        "Prepare Testing Data"
      ]
    },
    {
      "cell_type": "code",
      "metadata": {
        "id": "qLANKo8ebfnZ",
        "outputId": "aec8feee-2034-4b5b-c311-49f8a92e47f8",
        "colab": {
          "base_uri": "https://localhost:8080/",
          "height": 203
        }
      },
      "source": [
        "df_test.head()\n"
      ],
      "execution_count": 50,
      "outputs": [
        {
          "output_type": "execute_result",
          "data": {
            "text/html": [
              "<div>\n",
              "<style scoped>\n",
              "    .dataframe tbody tr th:only-of-type {\n",
              "        vertical-align: middle;\n",
              "    }\n",
              "\n",
              "    .dataframe tbody tr th {\n",
              "        vertical-align: top;\n",
              "    }\n",
              "\n",
              "    .dataframe thead th {\n",
              "        text-align: right;\n",
              "    }\n",
              "</style>\n",
              "<table border=\"1\" class=\"dataframe\">\n",
              "  <thead>\n",
              "    <tr style=\"text-align: right;\">\n",
              "      <th></th>\n",
              "      <th>filename</th>\n",
              "      <th>category</th>\n",
              "    </tr>\n",
              "  </thead>\n",
              "  <tbody>\n",
              "    <tr>\n",
              "      <th>10617</th>\n",
              "      <td>rumor_images/9df2de2djw1ev0s31vivtj20hs0nq0ta.jpg</td>\n",
              "      <td>rumor</td>\n",
              "    </tr>\n",
              "    <tr>\n",
              "      <th>10618</th>\n",
              "      <td>rumor_images/72c924eajw1e1be1fr2zmj.jpg</td>\n",
              "      <td>rumor</td>\n",
              "    </tr>\n",
              "    <tr>\n",
              "      <th>10619</th>\n",
              "      <td>rumor_images/005xOb42jw1et82utuplgj318g0xcap7.jpg</td>\n",
              "      <td>rumor</td>\n",
              "    </tr>\n",
              "    <tr>\n",
              "      <th>10620</th>\n",
              "      <td>nonrumor_images/707e96d5gw1eznen104swj20ev0ns0...</td>\n",
              "      <td>nonrumor</td>\n",
              "    </tr>\n",
              "    <tr>\n",
              "      <th>10621</th>\n",
              "      <td>rumor_images/612364a3jw1e3w2vtklgzj20og0fwtau.jpg</td>\n",
              "      <td>rumor</td>\n",
              "    </tr>\n",
              "  </tbody>\n",
              "</table>\n",
              "</div>"
            ],
            "text/plain": [
              "                                                filename  category\n",
              "10617  rumor_images/9df2de2djw1ev0s31vivtj20hs0nq0ta.jpg     rumor\n",
              "10618            rumor_images/72c924eajw1e1be1fr2zmj.jpg     rumor\n",
              "10619  rumor_images/005xOb42jw1et82utuplgj318g0xcap7.jpg     rumor\n",
              "10620  nonrumor_images/707e96d5gw1eznen104swj20ev0ns0...  nonrumor\n",
              "10621  rumor_images/612364a3jw1e3w2vtklgzj20og0fwtau.jpg     rumor"
            ]
          },
          "metadata": {
            "tags": []
          },
          "execution_count": 50
        }
      ]
    },
    {
      "cell_type": "code",
      "metadata": {
        "id": "9UBNf5qQbtip"
      },
      "source": [
        "df_test = df_test.reset_index(drop = True)"
      ],
      "execution_count": 51,
      "outputs": []
    },
    {
      "cell_type": "code",
      "metadata": {
        "id": "qgwp88LEPEJI",
        "outputId": "a8459f18-1037-4bab-f004-bda378c7402b",
        "colab": {
          "base_uri": "https://localhost:8080/"
        }
      },
      "source": [
        "test_filenames = []\n",
        "test_categories = []\n",
        "for i in range(0,len(df_test)):\n",
        "  test_filenames.append(df_test['filename'][i])\n",
        "  test_categories.append(df_test['category'][i])\n",
        "print(len(test_filenames))"
      ],
      "execution_count": 52,
      "outputs": [
        {
          "output_type": "stream",
          "text": [
            "2655\n"
          ],
          "name": "stdout"
        }
      ]
    },
    {
      "cell_type": "code",
      "metadata": {
        "id": "oroYR9nFPKaX"
      },
      "source": [
        "test_df = df_test\n",
        "nb_samples = test_df.shape[0]"
      ],
      "execution_count": 53,
      "outputs": []
    },
    {
      "cell_type": "markdown",
      "metadata": {
        "id": "ke2CJfEzeQxk"
      },
      "source": [
        "Create Testing Generator"
      ]
    },
    {
      "cell_type": "code",
      "metadata": {
        "id": "Au0hQBuDPMi3",
        "outputId": "376dde96-5624-4a15-aa26-24164f0fbf35",
        "colab": {
          "base_uri": "https://localhost:8080/"
        }
      },
      "source": [
        "test_gen = ImageDataGenerator(rescale=1./255)\n",
        "test_generator = test_gen.flow_from_dataframe(\n",
        "    test_df, \n",
        "    \"./train_extracted/MM17-WeiboRumorSet/\", \n",
        "    x_col='filename',\n",
        "    y_col=None,\n",
        "    class_mode=None,\n",
        "    target_size=IMAGE_SIZE,\n",
        "    batch_size=batch_size,\n",
        "    shuffle=False,\n",
        "    validate_filenames=False\n",
        ")"
      ],
      "execution_count": 54,
      "outputs": [
        {
          "output_type": "stream",
          "text": [
            "Found 2655 non-validated image filenames.\n"
          ],
          "name": "stdout"
        }
      ]
    },
    {
      "cell_type": "markdown",
      "metadata": {
        "id": "4QrM6f9seki3"
      },
      "source": [
        "Predict"
      ]
    },
    {
      "cell_type": "code",
      "metadata": {
        "id": "xaL3pLJ2eT-x"
      },
      "source": [
        "predict = model.predict(test_generator, steps=np.ceil(nb_samples/batch_size))"
      ],
      "execution_count": 55,
      "outputs": []
    },
    {
      "cell_type": "code",
      "metadata": {
        "id": "amQMkq5kemlx",
        "outputId": "0885d6a4-56b2-4d1b-ad11-6eaa7b41c659",
        "colab": {
          "base_uri": "https://localhost:8080/"
        }
      },
      "source": [
        "print(predict)"
      ],
      "execution_count": 56,
      "outputs": [
        {
          "output_type": "stream",
          "text": [
            "[[0.04492794 0.95507205]\n",
            " [0.49207997 0.50792   ]\n",
            " [0.60963845 0.39036158]\n",
            " ...\n",
            " [0.5947728  0.4052272 ]\n",
            " [0.07197713 0.9280228 ]\n",
            " [0.2506096  0.7493904 ]]\n"
          ],
          "name": "stdout"
        }
      ]
    },
    {
      "cell_type": "markdown",
      "metadata": {
        "id": "cCw8FByKeqYS"
      },
      "source": [
        "For categoral classication the prediction will come with probability of each category. So we will pick the category that have the highest probability with numpy average max"
      ]
    },
    {
      "cell_type": "code",
      "metadata": {
        "id": "kfp83CZ6eoFA"
      },
      "source": [
        "test_df['category_predicted'] = np.argmax(predict, axis=-1)"
      ],
      "execution_count": 57,
      "outputs": []
    },
    {
      "cell_type": "markdown",
      "metadata": {
        "id": "UBRiP8lvevMY"
      },
      "source": [
        "We will convert the predict category back into our generator classes by using train_generator.class_indices. It is the classes that image generator map while converting data into computer vision"
      ]
    },
    {
      "cell_type": "code",
      "metadata": {
        "id": "JZ-sNkxResjR"
      },
      "source": [
        "label_map = dict((v,k) for k,v in train_generator.class_indices.items())\n",
        "test_df['category_predicted'] = test_df['category_predicted'].replace(label_map)"
      ],
      "execution_count": 58,
      "outputs": []
    },
    {
      "cell_type": "markdown",
      "metadata": {
        "id": "A3bZxpsKggzh"
      },
      "source": [
        "From our prepare data part. We map data with {1: 'dog', 0: 'cat'}. Now we will map the result back to dog is 1 and cat is 0"
      ]
    },
    {
      "cell_type": "code",
      "metadata": {
        "id": "V0zaVoW2exJx"
      },
      "source": [
        "test_df['category_predicted'] = test_df['category_predicted'].replace({ 'rumor': 1, 'nonrumor': 0 })\n",
        "test_df['category'] = test_df['category'].replace({ 'rumor': 1, 'nonrumor': 0 })"
      ],
      "execution_count": 59,
      "outputs": []
    },
    {
      "cell_type": "markdown",
      "metadata": {
        "id": "CpR5BXrngknH"
      },
      "source": [
        "Virtaulize Result"
      ]
    },
    {
      "cell_type": "code",
      "metadata": {
        "id": "n3NO-gkEgiwd",
        "outputId": "7bae1370-8e5e-4aa4-e037-ab05f7409009",
        "colab": {
          "base_uri": "https://localhost:8080/",
          "height": 279
        }
      },
      "source": [
        "test_df['category_predicted'].value_counts().plot.bar()"
      ],
      "execution_count": 60,
      "outputs": [
        {
          "output_type": "execute_result",
          "data": {
            "text/plain": [
              "<matplotlib.axes._subplots.AxesSubplot at 0x7fbf2a5ecac8>"
            ]
          },
          "metadata": {
            "tags": []
          },
          "execution_count": 60
        },
        {
          "output_type": "display_data",
          "data": {
            "image/png": "[encoded data removed]",
            "text/plain": [
              "<Figure size 432x288 with 1 Axes>"
            ]
          },
          "metadata": {
            "tags": [],
            "needs_background": "light"
          }
        }
      ]
    },
    {
      "cell_type": "code",
      "metadata": {
        "id": "JIFDmAJpj36U",
        "outputId": "fa6a0439-84d6-4859-84b4-660da85d74bb",
        "colab": {
          "base_uri": "https://localhost:8080/",
          "height": 279
        }
      },
      "source": [
        "test_df['category'].value_counts().plot.bar()"
      ],
      "execution_count": 61,
      "outputs": [
        {
          "output_type": "execute_result",
          "data": {
            "text/plain": [
              "<matplotlib.axes._subplots.AxesSubplot at 0x7fbf2a4f5470>"
            ]
          },
          "metadata": {
            "tags": []
          },
          "execution_count": 61
        },
        {
          "output_type": "display_data",
          "data": {
            "image/png": "[encoded data removed]",
            "text/plain": [
              "<Figure size 432x288 with 1 Axes>"
            ]
          },
          "metadata": {
            "tags": [],
            "needs_background": "light"
          }
        }
      ]
    },
    {
      "cell_type": "code",
      "metadata": {
        "id": "F8Vgbm5Oj6re"
      },
      "source": [
        "y_pred = test_df['category_predicted']\n",
        "y_true = test_df['category']"
      ],
      "execution_count": 62,
      "outputs": []
    },
    {
      "cell_type": "code",
      "metadata": {
        "id": "Fl5UHyHCbf_M",
        "outputId": "4af1b629-7d8f-4656-9842-4a973fed5190",
        "colab": {
          "base_uri": "https://localhost:8080/"
        }
      },
      "source": [
        "from sklearn.metrics import accuracy_score # normal accuracy\n",
        "from sklearn.metrics import balanced_accuracy_score # used in case of imbalanced data sets, average of recall, from 0 to 1\n",
        "from sklearn.metrics import confusion_matrix # division of performance on the multilabels\n",
        "from sklearn.metrics import cohen_kappa_score # compares model against random prediction, from -1 to 1\n",
        "from sklearn.metrics import classification_report # for multilabel classification, gives precision, recall, f score, support, more\n",
        "target_names = ['class 0', 'class 1']\n",
        "\n",
        "def print_metrics(y_true, y_pred):\n",
        "    print(\"Accuracy:\", accuracy_score(y_true, y_pred))\n",
        "    print(\"Balanced Accuracy:\" , balanced_accuracy_score(y_true, y_pred))\n",
        "    print(\"Confusion Matrix:\\n\", confusion_matrix(y_true, y_pred))\n",
        "    print(\"Cohen Kappa Score:\", cohen_kappa_score(y_true, y_pred))\n",
        "    print(\"Classification Report:\\n\", classification_report(y_true, y_pred, target_names=target_names))\n",
        "    \n",
        "print('CNN Only')\n",
        "print_metrics(y_true, y_pred)"
      ],
      "execution_count": 63,
      "outputs": [
        {
          "output_type": "stream",
          "text": [
            "CNN Only\n",
            "Accuracy: 0.6836158192090396\n",
            "Balanced Accuracy: 0.6639458679697358\n",
            "Confusion Matrix:\n",
            " [[ 601  463]\n",
            " [ 377 1214]]\n",
            "Cohen Kappa Score: 0.3323406158560571\n",
            "Classification Report:\n",
            "               precision    recall  f1-score   support\n",
            "\n",
            "     class 0       0.61      0.56      0.59      1064\n",
            "     class 1       0.72      0.76      0.74      1591\n",
            "\n",
            "    accuracy                           0.68      2655\n",
            "   macro avg       0.67      0.66      0.67      2655\n",
            "weighted avg       0.68      0.68      0.68      2655\n",
            "\n"
          ],
          "name": "stdout"
        }
      ]
    },
    {
      "cell_type": "code",
      "metadata": {
        "id": "NninvD-ebAX3",
        "outputId": "e05ae541-674e-4513-9df6-827567cfcbde",
        "colab": {
          "base_uri": "https://localhost:8080/",
          "height": 17
        }
      },
      "source": [
        "# saving the dataframe of our results\n",
        "test_df.to_csv('1_Conv_layers_1_COMP5331_Initial_Full_Classifier_Ayush_10102020test_df_5331.csv') \n",
        "files.download('1_Conv_layers_1_COMP5331_Initial_Full_Classifier_Ayush_10102020test_df_5331.csv')"
      ],
      "execution_count": 111,
      "outputs": [
        {
          "output_type": "display_data",
          "data": {
            "application/javascript": [
              "\n",
              "    async function download(id, filename, size) {\n",
              "      if (!google.colab.kernel.accessAllowed) {\n",
              "        return;\n",
              "      }\n",
              "      const div = document.createElement('div');\n",
              "      const label = document.createElement('label');\n",
              "      label.textContent = `Downloading \"${filename}\": `;\n",
              "      div.appendChild(label);\n",
              "      const progress = document.createElement('progress');\n",
              "      progress.max = size;\n",
              "      div.appendChild(progress);\n",
              "      document.body.appendChild(div);\n",
              "\n",
              "      const buffers = [];\n",
              "      let downloaded = 0;\n",
              "\n",
              "      const channel = await google.colab.kernel.comms.open(id);\n",
              "      // Send a message to notify the kernel that we're ready.\n",
              "      channel.send({})\n",
              "\n",
              "      for await (const message of channel.messages) {\n",
              "        // Send a message to notify the kernel that we're ready.\n",
              "        channel.send({})\n",
              "        if (message.buffers) {\n",
              "          for (const buffer of message.buffers) {\n",
              "            buffers.push(buffer);\n",
              "            downloaded += buffer.byteLength;\n",
              "            progress.value = downloaded;\n",
              "          }\n",
              "        }\n",
              "      }\n",
              "      const blob = new Blob(buffers, {type: 'application/binary'});\n",
              "      const a = document.createElement('a');\n",
              "      a.href = window.URL.createObjectURL(blob);\n",
              "      a.download = filename;\n",
              "      div.appendChild(a);\n",
              "      a.click();\n",
              "      div.remove();\n",
              "    }\n",
              "  "
            ],
            "text/plain": [
              "<IPython.core.display.Javascript object>"
            ]
          },
          "metadata": {
            "tags": []
          }
        },
        {
          "output_type": "display_data",
          "data": {
            "application/javascript": [
              "download(\"download_06deb655-9130-4309-b62a-c20962269a61\", \"1_Conv_layers_1_COMP5331_Initial_Full_Classifier_Ayush_10102020test_df_5331.csv\", 155945)"
            ],
            "text/plain": [
              "<IPython.core.display.Javascript object>"
            ]
          },
          "metadata": {
            "tags": []
          }
        }
      ]
    },
    {
      "cell_type": "code",
      "metadata": {
        "id": "EuGiE__EpTAU"
      },
      "source": [
        ""
      ],
      "execution_count": 64,
      "outputs": []
    }
  ]
}