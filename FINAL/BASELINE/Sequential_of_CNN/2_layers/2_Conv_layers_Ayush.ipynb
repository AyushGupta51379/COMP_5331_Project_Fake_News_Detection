{
  "nbformat": 4,
  "nbformat_minor": 0,
  "metadata": {
    "colab": {
      "name": "2_Conv_layers_1_COMP5331_Initial_Full_Classifier_Ayush_10102020",
      "provenance": [],
      "collapsed_sections": []
    },
    "kernelspec": {
      "name": "python3",
      "display_name": "Python 3"
    },
    "accelerator": "GPU"
  },
  "cells": [
    {
      "cell_type": "code",
      "metadata": {
        "id": "gv6nx80K4QNK"
      },
      "source": [
        "import numpy as np\n",
        "import pandas as pd \n",
        "from keras.preprocessing.image import ImageDataGenerator, load_img\n",
        "from keras.utils import to_categorical\n",
        "from sklearn.model_selection import train_test_split\n",
        "import matplotlib.pyplot as plt\n",
        "import random\n",
        "import os"
      ],
      "execution_count": 1,
      "outputs": []
    },
    {
      "cell_type": "markdown",
      "metadata": {
        "id": "iT0un9wb7QEb"
      },
      "source": [
        "Define constants"
      ]
    },
    {
      "cell_type": "code",
      "metadata": {
        "id": "XcFGFv2o7N1u"
      },
      "source": [
        "FAST_RUN = False\n",
        "IMAGE_WIDTH=128\n",
        "IMAGE_HEIGHT=128\n",
        "IMAGE_SIZE=(IMAGE_WIDTH, IMAGE_HEIGHT)\n",
        "IMAGE_CHANNELS=3"
      ],
      "execution_count": 2,
      "outputs": []
    },
    {
      "cell_type": "markdown",
      "metadata": {
        "id": "JtsAalz-7TmB"
      },
      "source": [
        "Prepare data"
      ]
    },
    {
      "cell_type": "markdown",
      "metadata": {
        "id": "s_iDUIM77Vk4"
      },
      "source": [
        "Download data and save it"
      ]
    },
    {
      "cell_type": "code",
      "metadata": {
        "id": "_05v3CbN7RpR"
      },
      "source": [
        "url = 'https://drive.google.com/file/d/1gjbSZV5NjjIVOqSP-yTCqXcGPX9PnYn5/view?usp=sharing'"
      ],
      "execution_count": 3,
      "outputs": []
    },
    {
      "cell_type": "code",
      "metadata": {
        "id": "Fp1FQpyd7jwo",
        "outputId": "a8108c81-9a38-4a62-d89f-12388ee26cfb",
        "colab": {
          "base_uri": "https://localhost:8080/"
        }
      },
      "source": [
        "!gdown --id 1gjbSZV5NjjIVOqSP-yTCqXcGPX9PnYn5"
      ],
      "execution_count": 4,
      "outputs": [
        {
          "output_type": "stream",
          "text": [
            "Downloading...\n",
            "From: https://drive.google.com/uc?id=1gjbSZV5NjjIVOqSP-yTCqXcGPX9PnYn5\n",
            "To: /content/MM17-WeiboRumorSet.zip\n",
            "1.35GB [00:18, 74.8MB/s]\n"
          ],
          "name": "stdout"
        }
      ]
    },
    {
      "cell_type": "markdown",
      "metadata": {
        "id": "hYPHGO1E7uh6"
      },
      "source": [
        "Unzip and save into folder train_extracted"
      ]
    },
    {
      "cell_type": "code",
      "metadata": {
        "id": "rhviYA0i7spi"
      },
      "source": [
        "import zipfile\n",
        "with zipfile.ZipFile(\"MM17-WeiboRumorSet.zip\",\"r\") as zip_ref:\n",
        "    zip_ref.extractall(\"./train_extracted\")"
      ],
      "execution_count": 5,
      "outputs": []
    },
    {
      "cell_type": "markdown",
      "metadata": {
        "id": "pWLQXyRB74iI"
      },
      "source": [
        "Exract labels from image names and save image names with corresponding labels in dataframe"
      ]
    },
    {
      "cell_type": "code",
      "metadata": {
        "id": "Pk6D3XmT72dg"
      },
      "source": [
        "filenames1 = os.listdir(\"./train_extracted/MM17-WeiboRumorSet/rumor_images\")\n",
        "filenames01 = []\n",
        "categories1 = []\n",
        "for filename in filenames1:\n",
        "    category = 1 # rumor\n",
        "    categories1.append(1)\n",
        "    s = \"rumor_images/\"+str(filename)\n",
        "    filenames01.append(s)\n",
        "\n",
        "df1 = pd.DataFrame({\n",
        "    'filename': filenames01,\n",
        "    'category': categories1\n",
        "})"
      ],
      "execution_count": 6,
      "outputs": []
    },
    {
      "cell_type": "code",
      "metadata": {
        "id": "bHnbciSU8dYZ",
        "outputId": "aabd9040-d0bf-4228-bc93-1c77c715e8a8",
        "colab": {
          "base_uri": "https://localhost:8080/",
          "height": 203
        }
      },
      "source": [
        "df1.head()"
      ],
      "execution_count": 7,
      "outputs": [
        {
          "output_type": "execute_result",
          "data": {
            "text/html": [
              "<div>\n",
              "<style scoped>\n",
              "    .dataframe tbody tr th:only-of-type {\n",
              "        vertical-align: middle;\n",
              "    }\n",
              "\n",
              "    .dataframe tbody tr th {\n",
              "        vertical-align: top;\n",
              "    }\n",
              "\n",
              "    .dataframe thead th {\n",
              "        text-align: right;\n",
              "    }\n",
              "</style>\n",
              "<table border=\"1\" class=\"dataframe\">\n",
              "  <thead>\n",
              "    <tr style=\"text-align: right;\">\n",
              "      <th></th>\n",
              "      <th>filename</th>\n",
              "      <th>category</th>\n",
              "    </tr>\n",
              "  </thead>\n",
              "  <tbody>\n",
              "    <tr>\n",
              "      <th>0</th>\n",
              "      <td>rumor_images/0062SQMfjw1er5h3sjsduj30go0b4mxy.jpg</td>\n",
              "      <td>1</td>\n",
              "    </tr>\n",
              "    <tr>\n",
              "      <th>1</th>\n",
              "      <td>rumor_images/48d702e4jw1eaemtw7ltzj20zk0e8dme.jpg</td>\n",
              "      <td>1</td>\n",
              "    </tr>\n",
              "    <tr>\n",
              "      <th>2</th>\n",
              "      <td>rumor_images/0067agZ4jw1es9cldrayrj308l064mx3.jpg</td>\n",
              "      <td>1</td>\n",
              "    </tr>\n",
              "    <tr>\n",
              "      <th>3</th>\n",
              "      <td>rumor_images/71d4be65gw1eee2e0hca7j20oc0f741e.jpg</td>\n",
              "      <td>1</td>\n",
              "    </tr>\n",
              "    <tr>\n",
              "      <th>4</th>\n",
              "      <td>rumor_images/005C3vAljw1ep6zsunu6pj30gd0m8ab5.jpg</td>\n",
              "      <td>1</td>\n",
              "    </tr>\n",
              "  </tbody>\n",
              "</table>\n",
              "</div>"
            ],
            "text/plain": [
              "                                            filename  category\n",
              "0  rumor_images/0062SQMfjw1er5h3sjsduj30go0b4mxy.jpg         1\n",
              "1  rumor_images/48d702e4jw1eaemtw7ltzj20zk0e8dme.jpg         1\n",
              "2  rumor_images/0067agZ4jw1es9cldrayrj308l064mx3.jpg         1\n",
              "3  rumor_images/71d4be65gw1eee2e0hca7j20oc0f741e.jpg         1\n",
              "4  rumor_images/005C3vAljw1ep6zsunu6pj30gd0m8ab5.jpg         1"
            ]
          },
          "metadata": {
            "tags": []
          },
          "execution_count": 7
        }
      ]
    },
    {
      "cell_type": "code",
      "metadata": {
        "id": "q9PJWG2A87dJ",
        "outputId": "87ff655e-eae1-413f-8a10-d5741c50b6a3",
        "colab": {
          "base_uri": "https://localhost:8080/"
        }
      },
      "source": [
        "len(df1) # number of rumor images"
      ],
      "execution_count": 8,
      "outputs": [
        {
          "output_type": "execute_result",
          "data": {
            "text/plain": [
              "7954"
            ]
          },
          "metadata": {
            "tags": []
          },
          "execution_count": 8
        }
      ]
    },
    {
      "cell_type": "code",
      "metadata": {
        "id": "s3x7rXsP8ebo"
      },
      "source": [
        "filenames2 = os.listdir(\"./train_extracted/MM17-WeiboRumorSet/nonrumor_images\")\n",
        "filenames02 = []\n",
        "categories2 = []\n",
        "for filename in filenames2:\n",
        "    category2 = 0 # rumor\n",
        "    categories2.append(0)\n",
        "    s = \"nonrumor_images/\"+str(filename)\n",
        "    filenames02.append(s)\n",
        "\n",
        "df2 = pd.DataFrame({\n",
        "    'filename': filenames02,\n",
        "    'category': categories2\n",
        "})"
      ],
      "execution_count": 9,
      "outputs": []
    },
    {
      "cell_type": "code",
      "metadata": {
        "id": "9SWw95p98wPA",
        "outputId": "a1a9db92-f8db-40bd-b7d4-bbbd748cf442",
        "colab": {
          "base_uri": "https://localhost:8080/",
          "height": 203
        }
      },
      "source": [
        "df2.head()"
      ],
      "execution_count": 10,
      "outputs": [
        {
          "output_type": "execute_result",
          "data": {
            "text/html": [
              "<div>\n",
              "<style scoped>\n",
              "    .dataframe tbody tr th:only-of-type {\n",
              "        vertical-align: middle;\n",
              "    }\n",
              "\n",
              "    .dataframe tbody tr th {\n",
              "        vertical-align: top;\n",
              "    }\n",
              "\n",
              "    .dataframe thead th {\n",
              "        text-align: right;\n",
              "    }\n",
              "</style>\n",
              "<table border=\"1\" class=\"dataframe\">\n",
              "  <thead>\n",
              "    <tr style=\"text-align: right;\">\n",
              "      <th></th>\n",
              "      <th>filename</th>\n",
              "      <th>category</th>\n",
              "    </tr>\n",
              "  </thead>\n",
              "  <tbody>\n",
              "    <tr>\n",
              "      <th>0</th>\n",
              "      <td>nonrumor_images/593bbc68gw1eyu8xr22qwj20c80qog...</td>\n",
              "      <td>0</td>\n",
              "    </tr>\n",
              "    <tr>\n",
              "      <th>1</th>\n",
              "      <td>nonrumor_images/6a5ce645jw1ezu74jn618j20c8096a...</td>\n",
              "      <td>0</td>\n",
              "    </tr>\n",
              "    <tr>\n",
              "      <th>2</th>\n",
              "      <td>nonrumor_images/61e6c012jw1ezfi3q48epj20c8282w...</td>\n",
              "      <td>0</td>\n",
              "    </tr>\n",
              "    <tr>\n",
              "      <th>3</th>\n",
              "      <td>nonrumor_images/6a5ce645jw1ezefna2nokj20bv0ctd...</td>\n",
              "      <td>0</td>\n",
              "    </tr>\n",
              "    <tr>\n",
              "      <th>4</th>\n",
              "      <td>nonrumor_images/61e6c012jw1ezjxnp33f0j20c80he4...</td>\n",
              "      <td>0</td>\n",
              "    </tr>\n",
              "  </tbody>\n",
              "</table>\n",
              "</div>"
            ],
            "text/plain": [
              "                                            filename  category\n",
              "0  nonrumor_images/593bbc68gw1eyu8xr22qwj20c80qog...         0\n",
              "1  nonrumor_images/6a5ce645jw1ezu74jn618j20c8096a...         0\n",
              "2  nonrumor_images/61e6c012jw1ezfi3q48epj20c8282w...         0\n",
              "3  nonrumor_images/6a5ce645jw1ezefna2nokj20bv0ctd...         0\n",
              "4  nonrumor_images/61e6c012jw1ezjxnp33f0j20c80he4...         0"
            ]
          },
          "metadata": {
            "tags": []
          },
          "execution_count": 10
        }
      ]
    },
    {
      "cell_type": "code",
      "metadata": {
        "id": "7d2VfS1D89Yr",
        "outputId": "24e45ef6-9566-4fda-f112-d6852832bf97",
        "colab": {
          "base_uri": "https://localhost:8080/"
        }
      },
      "source": [
        "len(df2) # number of non rumor images"
      ],
      "execution_count": 11,
      "outputs": [
        {
          "output_type": "execute_result",
          "data": {
            "text/plain": [
              "5318"
            ]
          },
          "metadata": {
            "tags": []
          },
          "execution_count": 11
        }
      ]
    },
    {
      "cell_type": "code",
      "metadata": {
        "id": "uZ42s8Ro_6Va"
      },
      "source": [
        "df = df1.append(df2, ignore_index=True).reset_index(drop = True)"
      ],
      "execution_count": 12,
      "outputs": []
    },
    {
      "cell_type": "code",
      "metadata": {
        "id": "_fIUquAhAZB-",
        "outputId": "7f9c5d61-1f5a-40f2-bde0-0c3eb5462777",
        "colab": {
          "base_uri": "https://localhost:8080/",
          "height": 203
        }
      },
      "source": [
        "df.head()"
      ],
      "execution_count": 13,
      "outputs": [
        {
          "output_type": "execute_result",
          "data": {
            "text/html": [
              "<div>\n",
              "<style scoped>\n",
              "    .dataframe tbody tr th:only-of-type {\n",
              "        vertical-align: middle;\n",
              "    }\n",
              "\n",
              "    .dataframe tbody tr th {\n",
              "        vertical-align: top;\n",
              "    }\n",
              "\n",
              "    .dataframe thead th {\n",
              "        text-align: right;\n",
              "    }\n",
              "</style>\n",
              "<table border=\"1\" class=\"dataframe\">\n",
              "  <thead>\n",
              "    <tr style=\"text-align: right;\">\n",
              "      <th></th>\n",
              "      <th>filename</th>\n",
              "      <th>category</th>\n",
              "    </tr>\n",
              "  </thead>\n",
              "  <tbody>\n",
              "    <tr>\n",
              "      <th>0</th>\n",
              "      <td>rumor_images/0062SQMfjw1er5h3sjsduj30go0b4mxy.jpg</td>\n",
              "      <td>1</td>\n",
              "    </tr>\n",
              "    <tr>\n",
              "      <th>1</th>\n",
              "      <td>rumor_images/48d702e4jw1eaemtw7ltzj20zk0e8dme.jpg</td>\n",
              "      <td>1</td>\n",
              "    </tr>\n",
              "    <tr>\n",
              "      <th>2</th>\n",
              "      <td>rumor_images/0067agZ4jw1es9cldrayrj308l064mx3.jpg</td>\n",
              "      <td>1</td>\n",
              "    </tr>\n",
              "    <tr>\n",
              "      <th>3</th>\n",
              "      <td>rumor_images/71d4be65gw1eee2e0hca7j20oc0f741e.jpg</td>\n",
              "      <td>1</td>\n",
              "    </tr>\n",
              "    <tr>\n",
              "      <th>4</th>\n",
              "      <td>rumor_images/005C3vAljw1ep6zsunu6pj30gd0m8ab5.jpg</td>\n",
              "      <td>1</td>\n",
              "    </tr>\n",
              "  </tbody>\n",
              "</table>\n",
              "</div>"
            ],
            "text/plain": [
              "                                            filename  category\n",
              "0  rumor_images/0062SQMfjw1er5h3sjsduj30go0b4mxy.jpg         1\n",
              "1  rumor_images/48d702e4jw1eaemtw7ltzj20zk0e8dme.jpg         1\n",
              "2  rumor_images/0067agZ4jw1es9cldrayrj308l064mx3.jpg         1\n",
              "3  rumor_images/71d4be65gw1eee2e0hca7j20oc0f741e.jpg         1\n",
              "4  rumor_images/005C3vAljw1ep6zsunu6pj30gd0m8ab5.jpg         1"
            ]
          },
          "metadata": {
            "tags": []
          },
          "execution_count": 13
        }
      ]
    },
    {
      "cell_type": "code",
      "metadata": {
        "id": "2pH2wtpWAZ--",
        "outputId": "9cce1cb7-a916-4bce-f67a-5511d333b5e3",
        "colab": {
          "base_uri": "https://localhost:8080/"
        }
      },
      "source": [
        "len(df) # combined"
      ],
      "execution_count": 14,
      "outputs": [
        {
          "output_type": "execute_result",
          "data": {
            "text/plain": [
              "13272"
            ]
          },
          "metadata": {
            "tags": []
          },
          "execution_count": 14
        }
      ]
    },
    {
      "cell_type": "code",
      "metadata": {
        "id": "1-FVPif5AbDG",
        "outputId": "6a5c5edd-a59c-45c2-bd4f-50f511f3faf7",
        "colab": {
          "base_uri": "https://localhost:8080/",
          "height": 296
        }
      },
      "source": [
        "df.describe()"
      ],
      "execution_count": 15,
      "outputs": [
        {
          "output_type": "execute_result",
          "data": {
            "text/html": [
              "<div>\n",
              "<style scoped>\n",
              "    .dataframe tbody tr th:only-of-type {\n",
              "        vertical-align: middle;\n",
              "    }\n",
              "\n",
              "    .dataframe tbody tr th {\n",
              "        vertical-align: top;\n",
              "    }\n",
              "\n",
              "    .dataframe thead th {\n",
              "        text-align: right;\n",
              "    }\n",
              "</style>\n",
              "<table border=\"1\" class=\"dataframe\">\n",
              "  <thead>\n",
              "    <tr style=\"text-align: right;\">\n",
              "      <th></th>\n",
              "      <th>category</th>\n",
              "    </tr>\n",
              "  </thead>\n",
              "  <tbody>\n",
              "    <tr>\n",
              "      <th>count</th>\n",
              "      <td>13272.000000</td>\n",
              "    </tr>\n",
              "    <tr>\n",
              "      <th>mean</th>\n",
              "      <td>0.599307</td>\n",
              "    </tr>\n",
              "    <tr>\n",
              "      <th>std</th>\n",
              "      <td>0.490057</td>\n",
              "    </tr>\n",
              "    <tr>\n",
              "      <th>min</th>\n",
              "      <td>0.000000</td>\n",
              "    </tr>\n",
              "    <tr>\n",
              "      <th>25%</th>\n",
              "      <td>0.000000</td>\n",
              "    </tr>\n",
              "    <tr>\n",
              "      <th>50%</th>\n",
              "      <td>1.000000</td>\n",
              "    </tr>\n",
              "    <tr>\n",
              "      <th>75%</th>\n",
              "      <td>1.000000</td>\n",
              "    </tr>\n",
              "    <tr>\n",
              "      <th>max</th>\n",
              "      <td>1.000000</td>\n",
              "    </tr>\n",
              "  </tbody>\n",
              "</table>\n",
              "</div>"
            ],
            "text/plain": [
              "           category\n",
              "count  13272.000000\n",
              "mean       0.599307\n",
              "std        0.490057\n",
              "min        0.000000\n",
              "25%        0.000000\n",
              "50%        1.000000\n",
              "75%        1.000000\n",
              "max        1.000000"
            ]
          },
          "metadata": {
            "tags": []
          },
          "execution_count": 15
        }
      ]
    },
    {
      "cell_type": "code",
      "metadata": {
        "id": "xEICoXREAe7W",
        "outputId": "79097b68-0931-4d0e-a8a9-c3e9043e9ffe",
        "colab": {
          "base_uri": "https://localhost:8080/",
          "height": 203
        }
      },
      "source": [
        "df.tail()"
      ],
      "execution_count": 16,
      "outputs": [
        {
          "output_type": "execute_result",
          "data": {
            "text/html": [
              "<div>\n",
              "<style scoped>\n",
              "    .dataframe tbody tr th:only-of-type {\n",
              "        vertical-align: middle;\n",
              "    }\n",
              "\n",
              "    .dataframe tbody tr th {\n",
              "        vertical-align: top;\n",
              "    }\n",
              "\n",
              "    .dataframe thead th {\n",
              "        text-align: right;\n",
              "    }\n",
              "</style>\n",
              "<table border=\"1\" class=\"dataframe\">\n",
              "  <thead>\n",
              "    <tr style=\"text-align: right;\">\n",
              "      <th></th>\n",
              "      <th>filename</th>\n",
              "      <th>category</th>\n",
              "    </tr>\n",
              "  </thead>\n",
              "  <tbody>\n",
              "    <tr>\n",
              "      <th>13267</th>\n",
              "      <td>nonrumor_images/66eeadffjw1eynry1ltilj20go0m8d...</td>\n",
              "      <td>0</td>\n",
              "    </tr>\n",
              "    <tr>\n",
              "      <th>13268</th>\n",
              "      <td>nonrumor_images/6a5ce645jw1ezefndxpnnj20c50bwg...</td>\n",
              "      <td>0</td>\n",
              "    </tr>\n",
              "    <tr>\n",
              "      <th>13269</th>\n",
              "      <td>nonrumor_images/470bf257jw1eue540s1zuj20hr0e6j...</td>\n",
              "      <td>0</td>\n",
              "    </tr>\n",
              "    <tr>\n",
              "      <th>13270</th>\n",
              "      <td>nonrumor_images/6693ce84gw1ez0r8sv77oj20c836zh...</td>\n",
              "      <td>0</td>\n",
              "    </tr>\n",
              "    <tr>\n",
              "      <th>13271</th>\n",
              "      <td>nonrumor_images/625ab309jw1eyhkiz1jmkj20bl0gnm...</td>\n",
              "      <td>0</td>\n",
              "    </tr>\n",
              "  </tbody>\n",
              "</table>\n",
              "</div>"
            ],
            "text/plain": [
              "                                                filename  category\n",
              "13267  nonrumor_images/66eeadffjw1eynry1ltilj20go0m8d...         0\n",
              "13268  nonrumor_images/6a5ce645jw1ezefndxpnnj20c50bwg...         0\n",
              "13269  nonrumor_images/470bf257jw1eue540s1zuj20hr0e6j...         0\n",
              "13270  nonrumor_images/6693ce84gw1ez0r8sv77oj20c836zh...         0\n",
              "13271  nonrumor_images/625ab309jw1eyhkiz1jmkj20bl0gnm...         0"
            ]
          },
          "metadata": {
            "tags": []
          },
          "execution_count": 16
        }
      ]
    },
    {
      "cell_type": "markdown",
      "metadata": {
        "id": "Pm3W4A0BBFex"
      },
      "source": [
        "Total count"
      ]
    },
    {
      "cell_type": "code",
      "metadata": {
        "id": "nwsJEYNoAnad",
        "outputId": "b2e21c4e-56ee-43ea-9d1e-2fa6f0cdda78",
        "colab": {
          "base_uri": "https://localhost:8080/"
        }
      },
      "source": [
        "label_counts = df.groupby('category').size()\n",
        "print(label_counts)"
      ],
      "execution_count": 17,
      "outputs": [
        {
          "output_type": "stream",
          "text": [
            "category\n",
            "0    5318\n",
            "1    7954\n",
            "dtype: int64\n"
          ],
          "name": "stdout"
        }
      ]
    },
    {
      "cell_type": "code",
      "metadata": {
        "id": "Hr5bn68EA5zF",
        "outputId": "f75fae81-7384-4736-c775-2305269d0758",
        "colab": {
          "base_uri": "https://localhost:8080/",
          "height": 279
        }
      },
      "source": [
        "df['category'].value_counts().plot.bar()"
      ],
      "execution_count": 18,
      "outputs": [
        {
          "output_type": "execute_result",
          "data": {
            "text/plain": [
              "<matplotlib.axes._subplots.AxesSubplot at 0x7fd61973b630>"
            ]
          },
          "metadata": {
            "tags": []
          },
          "execution_count": 18
        },
        {
          "output_type": "display_data",
          "data": {
            "image/png": "[encoded data removed]",
            "text/plain": [
              "<Figure size 432x288 with 1 Axes>"
            ]
          },
          "metadata": {
            "tags": [],
            "needs_background": "light"
          }
        }
      ]
    },
    {
      "cell_type": "markdown",
      "metadata": {
        "id": "B8SOMjuFBIZC"
      },
      "source": [
        "Sample image"
      ]
    },
    {
      "cell_type": "markdown",
      "metadata": {
        "id": "Zu95Vqf5ICnG"
      },
      "source": [
        "Shuffle df"
      ]
    },
    {
      "cell_type": "code",
      "metadata": {
        "id": "tOkhf8xkIEQm"
      },
      "source": [
        "# shuffle the DataFrame rows \n",
        "df = df.sample(frac = 1).reset_index(drop=True) "
      ],
      "execution_count": 19,
      "outputs": []
    },
    {
      "cell_type": "code",
      "metadata": {
        "id": "Wz6egnsyIO6G",
        "outputId": "13d8c58d-5570-4d78-8f63-07f78c38aeac",
        "colab": {
          "base_uri": "https://localhost:8080/",
          "height": 203
        }
      },
      "source": [
        "df.head()"
      ],
      "execution_count": 20,
      "outputs": [
        {
          "output_type": "execute_result",
          "data": {
            "text/html": [
              "<div>\n",
              "<style scoped>\n",
              "    .dataframe tbody tr th:only-of-type {\n",
              "        vertical-align: middle;\n",
              "    }\n",
              "\n",
              "    .dataframe tbody tr th {\n",
              "        vertical-align: top;\n",
              "    }\n",
              "\n",
              "    .dataframe thead th {\n",
              "        text-align: right;\n",
              "    }\n",
              "</style>\n",
              "<table border=\"1\" class=\"dataframe\">\n",
              "  <thead>\n",
              "    <tr style=\"text-align: right;\">\n",
              "      <th></th>\n",
              "      <th>filename</th>\n",
              "      <th>category</th>\n",
              "    </tr>\n",
              "  </thead>\n",
              "  <tbody>\n",
              "    <tr>\n",
              "      <th>0</th>\n",
              "      <td>nonrumor_images/4e5b54d8gw1eyldltzmewj20c80h7d...</td>\n",
              "      <td>0</td>\n",
              "    </tr>\n",
              "    <tr>\n",
              "      <th>1</th>\n",
              "      <td>rumor_images/488c1a9djw1e4212zhwpij20dc0nqq68.jpg</td>\n",
              "      <td>1</td>\n",
              "    </tr>\n",
              "    <tr>\n",
              "      <th>2</th>\n",
              "      <td>nonrumor_images/684ebae3jw1eyj1dwmhxkj20c80ho7...</td>\n",
              "      <td>0</td>\n",
              "    </tr>\n",
              "    <tr>\n",
              "      <th>3</th>\n",
              "      <td>nonrumor_images/61e04755jw1ezry8nnimwj20b40ak7...</td>\n",
              "      <td>0</td>\n",
              "    </tr>\n",
              "    <tr>\n",
              "      <th>4</th>\n",
              "      <td>rumor_images/633f6f25jw1dz7jrlvisgj.jpg</td>\n",
              "      <td>1</td>\n",
              "    </tr>\n",
              "  </tbody>\n",
              "</table>\n",
              "</div>"
            ],
            "text/plain": [
              "                                            filename  category\n",
              "0  nonrumor_images/4e5b54d8gw1eyldltzmewj20c80h7d...         0\n",
              "1  rumor_images/488c1a9djw1e4212zhwpij20dc0nqq68.jpg         1\n",
              "2  nonrumor_images/684ebae3jw1eyj1dwmhxkj20c80ho7...         0\n",
              "3  nonrumor_images/61e04755jw1ezry8nnimwj20b40ak7...         0\n",
              "4            rumor_images/633f6f25jw1dz7jrlvisgj.jpg         1"
            ]
          },
          "metadata": {
            "tags": []
          },
          "execution_count": 20
        }
      ]
    },
    {
      "cell_type": "code",
      "metadata": {
        "id": "T4QGsffWIUje",
        "outputId": "43f7f3dd-ed00-48fc-e3e6-06969c209687",
        "colab": {
          "base_uri": "https://localhost:8080/",
          "height": 203
        }
      },
      "source": [
        "df.tail()"
      ],
      "execution_count": 21,
      "outputs": [
        {
          "output_type": "execute_result",
          "data": {
            "text/html": [
              "<div>\n",
              "<style scoped>\n",
              "    .dataframe tbody tr th:only-of-type {\n",
              "        vertical-align: middle;\n",
              "    }\n",
              "\n",
              "    .dataframe tbody tr th {\n",
              "        vertical-align: top;\n",
              "    }\n",
              "\n",
              "    .dataframe thead th {\n",
              "        text-align: right;\n",
              "    }\n",
              "</style>\n",
              "<table border=\"1\" class=\"dataframe\">\n",
              "  <thead>\n",
              "    <tr style=\"text-align: right;\">\n",
              "      <th></th>\n",
              "      <th>filename</th>\n",
              "      <th>category</th>\n",
              "    </tr>\n",
              "  </thead>\n",
              "  <tbody>\n",
              "    <tr>\n",
              "      <th>13267</th>\n",
              "      <td>rumor_images/9f020129tw1dy0etjr1nxj.jpg</td>\n",
              "      <td>1</td>\n",
              "    </tr>\n",
              "    <tr>\n",
              "      <th>13268</th>\n",
              "      <td>nonrumor_images/61ff32dejw1ez3xdjo2w7j20qo0f0d...</td>\n",
              "      <td>0</td>\n",
              "    </tr>\n",
              "    <tr>\n",
              "      <th>13269</th>\n",
              "      <td>nonrumor_images/593bbc68gw1ezbl86bvnzj20ci08q7...</td>\n",
              "      <td>0</td>\n",
              "    </tr>\n",
              "    <tr>\n",
              "      <th>13270</th>\n",
              "      <td>nonrumor_images/620beb06gw1eyok03zpcxj20c806w3...</td>\n",
              "      <td>0</td>\n",
              "    </tr>\n",
              "    <tr>\n",
              "      <th>13271</th>\n",
              "      <td>rumor_images/005PvtzXjw1elk3gmmwhej30e80j440f.jpg</td>\n",
              "      <td>1</td>\n",
              "    </tr>\n",
              "  </tbody>\n",
              "</table>\n",
              "</div>"
            ],
            "text/plain": [
              "                                                filename  category\n",
              "13267            rumor_images/9f020129tw1dy0etjr1nxj.jpg         1\n",
              "13268  nonrumor_images/61ff32dejw1ez3xdjo2w7j20qo0f0d...         0\n",
              "13269  nonrumor_images/593bbc68gw1ezbl86bvnzj20ci08q7...         0\n",
              "13270  nonrumor_images/620beb06gw1eyok03zpcxj20c806w3...         0\n",
              "13271  rumor_images/005PvtzXjw1elk3gmmwhej30e80j440f.jpg         1"
            ]
          },
          "metadata": {
            "tags": []
          },
          "execution_count": 21
        }
      ]
    },
    {
      "cell_type": "markdown",
      "metadata": {
        "id": "X28HYdciIS-O"
      },
      "source": [
        ""
      ]
    },
    {
      "cell_type": "markdown",
      "metadata": {
        "id": "RkVovi9qDrBp"
      },
      "source": [
        "Make a combined list with rumor and non rumor image paths last part"
      ]
    },
    {
      "cell_type": "code",
      "metadata": {
        "id": "QpX-qX_yGWgx",
        "outputId": "c9042c1c-80a7-49ca-9232-94459ba26dba",
        "colab": {
          "base_uri": "https://localhost:8080/"
        }
      },
      "source": [
        "filenames = []\n",
        "categories = []\n",
        "for i in range(0, len(df)):\n",
        "  filenames.append(str(df['filename'][i]))\n",
        "  categories.append((df['category'][i]))\n",
        "print(len(filenames))\n",
        "print(len(categories))"
      ],
      "execution_count": 22,
      "outputs": [
        {
          "output_type": "stream",
          "text": [
            "13272\n",
            "13272\n"
          ],
          "name": "stdout"
        }
      ]
    },
    {
      "cell_type": "code",
      "metadata": {
        "id": "DQT75R37DViw",
        "outputId": "9657d845-f3c1-4b2a-d0f2-73d33ec33f33",
        "colab": {
          "base_uri": "https://localhost:8080/"
        }
      },
      "source": [
        "print(filenames[0])\n",
        "print(categories[0])\n",
        "print(filenames[-1])\n",
        "print(categories[-1])"
      ],
      "execution_count": 23,
      "outputs": [
        {
          "output_type": "stream",
          "text": [
            "nonrumor_images/4e5b54d8gw1eyldltzmewj20c80h7di3.jpg\n",
            "0\n",
            "rumor_images/005PvtzXjw1elk3gmmwhej30e80j440f.jpg\n",
            "1\n"
          ],
          "name": "stdout"
        }
      ]
    },
    {
      "cell_type": "code",
      "metadata": {
        "id": "TNMAZ1nfCzsl",
        "outputId": "9efde18e-f4b4-48e5-9cec-07f92297da63",
        "colab": {
          "base_uri": "https://localhost:8080/",
          "height": 304
        }
      },
      "source": [
        "sample = random.choice(filenames)\n",
        "print(sample)\n",
        "image = load_img(\"./train_extracted/MM17-WeiboRumorSet/\"+sample)\n",
        "plt.imshow(image)"
      ],
      "execution_count": 24,
      "outputs": [
        {
          "output_type": "stream",
          "text": [
            "rumor_images/9b2b4fa5jw1ev1e2twahoj20f00qomy9.jpg\n"
          ],
          "name": "stdout"
        },
        {
          "output_type": "execute_result",
          "data": {
            "text/plain": [
              "<matplotlib.image.AxesImage at 0x7fd61913efd0>"
            ]
          },
          "metadata": {
            "tags": []
          },
          "execution_count": 24
        },
        {
          "output_type": "display_data",
          "data": {
            "image/png": "[encoded data removed]",
            "text/plain": [
              "<Figure size 432x288 with 1 Axes>"
            ]
          },
          "metadata": {
            "tags": [],
            "needs_background": "light"
          }
        }
      ]
    },
    {
      "cell_type": "markdown",
      "metadata": {
        "id": "3XiFNN94EAWH"
      },
      "source": [
        "Build Model\n",
        "\n",
        "\n",
        "Input Layer: It represent input image data. It will reshape image into single diminsion array. Example your image is 64x64 = 4096, it will convert to (4096,1) array.\n",
        "\n",
        "Conv Layer: This layer will extract features from image.\n",
        "\n",
        "Pooling Layer: This layerreduce the spatial volume of input image after convolution.\n",
        "\n",
        "Fully Connected Layer: It connect the network from a layer to another layer\n",
        "\n",
        "Output Layer: It is the predicted values layer."
      ]
    },
    {
      "cell_type": "code",
      "metadata": {
        "id": "XEFX8V1lDf6d",
        "outputId": "3e36cc8d-2a19-4964-9881-b83528ec1457",
        "colab": {
          "base_uri": "https://localhost:8080/"
        }
      },
      "source": [
        "from keras.models import Sequential\n",
        "from keras.layers import Conv2D, MaxPooling2D, Dropout, Flatten, Dense, Activation, BatchNormalization\n",
        "\n",
        "model = Sequential()\n",
        "\n",
        "model.add(Conv2D(32, (3, 3), activation='relu', input_shape=(IMAGE_WIDTH, IMAGE_HEIGHT, IMAGE_CHANNELS)))\n",
        "model.add(BatchNormalization())\n",
        "model.add(MaxPooling2D(pool_size=(2, 2)))\n",
        "model.add(Dropout(0.25))\n",
        "\n",
        "model.add(Conv2D(64, (3, 3), activation='relu'))\n",
        "model.add(BatchNormalization())\n",
        "model.add(MaxPooling2D(pool_size=(2, 2)))\n",
        "model.add(Dropout(0.25))\n",
        "\n",
        "model.add(Flatten())\n",
        "model.add(Dense(512, activation='relu'))\n",
        "model.add(BatchNormalization())\n",
        "model.add(Dropout(0.5))\n",
        "model.add(Dense(2, activation='softmax')) # 2 because we have 2 classes\n",
        "\n",
        "model.compile(loss='categorical_crossentropy', optimizer='rmsprop', metrics=['accuracy'])\n",
        "\n",
        "model.summary()"
      ],
      "execution_count": 25,
      "outputs": [
        {
          "output_type": "stream",
          "text": [
            "Model: \"sequential\"\n",
            "_________________________________________________________________\n",
            "Layer (type)                 Output Shape              Param #   \n",
            "=================================================================\n",
            "conv2d (Conv2D)              (None, 126, 126, 32)      896       \n",
            "_________________________________________________________________\n",
            "batch_normalization (BatchNo (None, 126, 126, 32)      128       \n",
            "_________________________________________________________________\n",
            "max_pooling2d (MaxPooling2D) (None, 63, 63, 32)        0         \n",
            "_________________________________________________________________\n",
            "dropout (Dropout)            (None, 63, 63, 32)        0         \n",
            "_________________________________________________________________\n",
            "conv2d_1 (Conv2D)            (None, 61, 61, 64)        18496     \n",
            "_________________________________________________________________\n",
            "batch_normalization_1 (Batch (None, 61, 61, 64)        256       \n",
            "_________________________________________________________________\n",
            "max_pooling2d_1 (MaxPooling2 (None, 30, 30, 64)        0         \n",
            "_________________________________________________________________\n",
            "dropout_1 (Dropout)          (None, 30, 30, 64)        0         \n",
            "_________________________________________________________________\n",
            "flatten (Flatten)            (None, 57600)             0         \n",
            "_________________________________________________________________\n",
            "dense (Dense)                (None, 512)               29491712  \n",
            "_________________________________________________________________\n",
            "batch_normalization_2 (Batch (None, 512)               2048      \n",
            "_________________________________________________________________\n",
            "dropout_2 (Dropout)          (None, 512)               0         \n",
            "_________________________________________________________________\n",
            "dense_1 (Dense)              (None, 2)                 1026      \n",
            "=================================================================\n",
            "Total params: 29,514,562\n",
            "Trainable params: 29,513,346\n",
            "Non-trainable params: 1,216\n",
            "_________________________________________________________________\n"
          ],
          "name": "stdout"
        }
      ]
    },
    {
      "cell_type": "markdown",
      "metadata": {
        "id": "GTsRkNZlEp9S"
      },
      "source": [
        "Callbacks"
      ]
    },
    {
      "cell_type": "code",
      "metadata": {
        "id": "v9olGx-1Elzn"
      },
      "source": [
        "from keras.callbacks import EarlyStopping, ReduceLROnPlateau"
      ],
      "execution_count": 26,
      "outputs": []
    },
    {
      "cell_type": "markdown",
      "metadata": {
        "id": "vlLvxlhiEwcY"
      },
      "source": [
        "Early Stop\n",
        "\n",
        "To prevent over fitting we will stop the learning after 10 epochs and val_loss value not decreased"
      ]
    },
    {
      "cell_type": "code",
      "metadata": {
        "id": "1myMXGP7Et10"
      },
      "source": [
        "earlystop = EarlyStopping(patience=10)"
      ],
      "execution_count": 27,
      "outputs": []
    },
    {
      "cell_type": "markdown",
      "metadata": {
        "id": "HAFClnwJE3VD"
      },
      "source": [
        "Learning Rate Reduction\n",
        "\n",
        "We will reduce the learning rate when then accuracy not increase for 2 steps"
      ]
    },
    {
      "cell_type": "code",
      "metadata": {
        "id": "9iT9fy0TE1Yb"
      },
      "source": [
        "learning_rate_reduction = ReduceLROnPlateau(monitor='val_accuracy', \n",
        "                                            patience=2, \n",
        "                                            verbose=1, \n",
        "                                            factor=0.5, \n",
        "                                            min_lr=0.00001)"
      ],
      "execution_count": 28,
      "outputs": []
    },
    {
      "cell_type": "code",
      "metadata": {
        "id": "30fgqmTjE6aT"
      },
      "source": [
        "callbacks = [earlystop, learning_rate_reduction]"
      ],
      "execution_count": 29,
      "outputs": []
    },
    {
      "cell_type": "markdown",
      "metadata": {
        "id": "Ilc_GkWHFHXY"
      },
      "source": [
        "Prepare data\n",
        "\n",
        "Because we will use image genaretor with class_mode=\"categorical\". We need to convert column category into string. Then imagenerator will convert it one-hot encoding which is good for our classification.\n",
        "\n",
        "So we will convert 1 to rumor and 0 to nonrumor"
      ]
    },
    {
      "cell_type": "code",
      "metadata": {
        "id": "x4vPWpOwE9ss"
      },
      "source": [
        "df[\"category\"] = df[\"category\"].replace({0: 'nonrumor', 1: 'rumor'}) "
      ],
      "execution_count": 30,
      "outputs": []
    },
    {
      "cell_type": "code",
      "metadata": {
        "id": "IYBab-iIIkHP",
        "outputId": "5e5d9e9a-315f-4957-a330-6dbe668ff415",
        "colab": {
          "base_uri": "https://localhost:8080/",
          "height": 203
        }
      },
      "source": [
        "df.head()"
      ],
      "execution_count": 31,
      "outputs": [
        {
          "output_type": "execute_result",
          "data": {
            "text/html": [
              "<div>\n",
              "<style scoped>\n",
              "    .dataframe tbody tr th:only-of-type {\n",
              "        vertical-align: middle;\n",
              "    }\n",
              "\n",
              "    .dataframe tbody tr th {\n",
              "        vertical-align: top;\n",
              "    }\n",
              "\n",
              "    .dataframe thead th {\n",
              "        text-align: right;\n",
              "    }\n",
              "</style>\n",
              "<table border=\"1\" class=\"dataframe\">\n",
              "  <thead>\n",
              "    <tr style=\"text-align: right;\">\n",
              "      <th></th>\n",
              "      <th>filename</th>\n",
              "      <th>category</th>\n",
              "    </tr>\n",
              "  </thead>\n",
              "  <tbody>\n",
              "    <tr>\n",
              "      <th>0</th>\n",
              "      <td>nonrumor_images/4e5b54d8gw1eyldltzmewj20c80h7d...</td>\n",
              "      <td>nonrumor</td>\n",
              "    </tr>\n",
              "    <tr>\n",
              "      <th>1</th>\n",
              "      <td>rumor_images/488c1a9djw1e4212zhwpij20dc0nqq68.jpg</td>\n",
              "      <td>rumor</td>\n",
              "    </tr>\n",
              "    <tr>\n",
              "      <th>2</th>\n",
              "      <td>nonrumor_images/684ebae3jw1eyj1dwmhxkj20c80ho7...</td>\n",
              "      <td>nonrumor</td>\n",
              "    </tr>\n",
              "    <tr>\n",
              "      <th>3</th>\n",
              "      <td>nonrumor_images/61e04755jw1ezry8nnimwj20b40ak7...</td>\n",
              "      <td>nonrumor</td>\n",
              "    </tr>\n",
              "    <tr>\n",
              "      <th>4</th>\n",
              "      <td>rumor_images/633f6f25jw1dz7jrlvisgj.jpg</td>\n",
              "      <td>rumor</td>\n",
              "    </tr>\n",
              "  </tbody>\n",
              "</table>\n",
              "</div>"
            ],
            "text/plain": [
              "                                            filename  category\n",
              "0  nonrumor_images/4e5b54d8gw1eyldltzmewj20c80h7d...  nonrumor\n",
              "1  rumor_images/488c1a9djw1e4212zhwpij20dc0nqq68.jpg     rumor\n",
              "2  nonrumor_images/684ebae3jw1eyj1dwmhxkj20c80ho7...  nonrumor\n",
              "3  nonrumor_images/61e04755jw1ezry8nnimwj20b40ak7...  nonrumor\n",
              "4            rumor_images/633f6f25jw1dz7jrlvisgj.jpg     rumor"
            ]
          },
          "metadata": {
            "tags": []
          },
          "execution_count": 31
        }
      ]
    },
    {
      "cell_type": "markdown",
      "metadata": {
        "id": "9vGd-5OuJxGK"
      },
      "source": [
        "Divide into 80% train and 20% test, Note that we have shuffled earlier"
      ]
    },
    {
      "cell_type": "code",
      "metadata": {
        "id": "PHvSkqYpIlEC",
        "outputId": "14f14f84-9f74-4ea3-c30a-5f31864de22e",
        "colab": {
          "base_uri": "https://localhost:8080/"
        }
      },
      "source": [
        "mid = int(len(df)*0.8)\n",
        "df_train = df[:mid]\n",
        "df_test = df[mid:]\n",
        "print(len(df_train))\n",
        "print(len(df_test))"
      ],
      "execution_count": 32,
      "outputs": [
        {
          "output_type": "stream",
          "text": [
            "10617\n",
            "2655\n"
          ],
          "name": "stdout"
        }
      ]
    },
    {
      "cell_type": "code",
      "metadata": {
        "id": "JdHhrULaJytp"
      },
      "source": [
        "train_df, validate_df = train_test_split(df_train, test_size=0.20, random_state=42)\n",
        "train_df = train_df.reset_index(drop=True)\n",
        "validate_df = validate_df.reset_index(drop=True)"
      ],
      "execution_count": 33,
      "outputs": []
    },
    {
      "cell_type": "code",
      "metadata": {
        "id": "89DDqmY2lXn1"
      },
      "source": [
        ""
      ],
      "execution_count": 33,
      "outputs": []
    },
    {
      "cell_type": "code",
      "metadata": {
        "id": "U_vv7UUvJ06a",
        "outputId": "21600f17-7939-4d3c-b03e-7fa7cfab78df",
        "colab": {
          "base_uri": "https://localhost:8080/",
          "height": 321
        }
      },
      "source": [
        "train_df['category'].value_counts().plot.bar()"
      ],
      "execution_count": 34,
      "outputs": [
        {
          "output_type": "execute_result",
          "data": {
            "text/plain": [
              "<matplotlib.axes._subplots.AxesSubplot at 0x7fd6190f8c18>"
            ]
          },
          "metadata": {
            "tags": []
          },
          "execution_count": 34
        },
        {
          "output_type": "display_data",
          "data": {
            "image/png": "[encoded data removed]",
            "text/plain": [
              "<Figure size 432x288 with 1 Axes>"
            ]
          },
          "metadata": {
            "tags": [],
            "needs_background": "light"
          }
        }
      ]
    },
    {
      "cell_type": "code",
      "metadata": {
        "id": "Ehgi-u8KJ4oi",
        "outputId": "e845644d-a432-44ed-8fed-e891d50d5338",
        "colab": {
          "base_uri": "https://localhost:8080/",
          "height": 321
        }
      },
      "source": [
        "validate_df['category'].value_counts().plot.bar()"
      ],
      "execution_count": 35,
      "outputs": [
        {
          "output_type": "execute_result",
          "data": {
            "text/plain": [
              "<matplotlib.axes._subplots.AxesSubplot at 0x7fd610178630>"
            ]
          },
          "metadata": {
            "tags": []
          },
          "execution_count": 35
        },
        {
          "output_type": "display_data",
          "data": {
            "image/png": "[encoded data removed]",
            "text/plain": [
              "<Figure size 432x288 with 1 Axes>"
            ]
          },
          "metadata": {
            "tags": [],
            "needs_background": "light"
          }
        }
      ]
    },
    {
      "cell_type": "code",
      "metadata": {
        "id": "QSP4mXwoJ8Ph"
      },
      "source": [
        "total_train = train_df.shape[0]\n",
        "total_validate = validate_df.shape[0]\n",
        "batch_size=32"
      ],
      "execution_count": 36,
      "outputs": []
    },
    {
      "cell_type": "markdown",
      "metadata": {
        "id": "UYUi4feTKBcc"
      },
      "source": [
        "Traning Generator"
      ]
    },
    {
      "cell_type": "code",
      "metadata": {
        "id": "d_ojPtyjJ-qR",
        "outputId": "caa8a04c-8665-48ca-d0c9-063f58c4fb61",
        "colab": {
          "base_uri": "https://localhost:8080/"
        }
      },
      "source": [
        "train_datagen = ImageDataGenerator(\n",
        "    rotation_range=15,\n",
        "    rescale=1./255,\n",
        "    shear_range=0.1,\n",
        "    zoom_range=0.2,\n",
        "    horizontal_flip=True,\n",
        "    width_shift_range=0.1,\n",
        "    height_shift_range=0.1\n",
        ")\n",
        "\n",
        "train_generator = train_datagen.flow_from_dataframe(\n",
        "    train_df, \n",
        "    \"./train_extracted/MM17-WeiboRumorSet/\", \n",
        "    x_col='filename',\n",
        "    y_col='category',\n",
        "    target_size=IMAGE_SIZE,\n",
        "    class_mode='categorical',\n",
        "    batch_size=batch_size\n",
        ")"
      ],
      "execution_count": 37,
      "outputs": [
        {
          "output_type": "stream",
          "text": [
            "Found 8475 validated image filenames belonging to 2 classes.\n"
          ],
          "name": "stdout"
        },
        {
          "output_type": "stream",
          "text": [
            "/usr/local/lib/python3.6/dist-packages/keras_preprocessing/image/dataframe_iterator.py:282: UserWarning: Found 18 invalid image filename(s) in x_col=\"filename\". These filename(s) will be ignored.\n",
            "  .format(n_invalid, x_col)\n"
          ],
          "name": "stderr"
        }
      ]
    },
    {
      "cell_type": "markdown",
      "metadata": {
        "id": "llVLhuxYKh2N"
      },
      "source": [
        "Validation Generator"
      ]
    },
    {
      "cell_type": "code",
      "metadata": {
        "id": "ijwdyzmvKc4Y",
        "outputId": "b4385e80-d536-4111-aea6-40e2830492a9",
        "colab": {
          "base_uri": "https://localhost:8080/"
        }
      },
      "source": [
        "validation_datagen = ImageDataGenerator(rescale=1./255)\n",
        "validation_generator = validation_datagen.flow_from_dataframe(\n",
        "    validate_df, \n",
        "    \"./train_extracted/MM17-WeiboRumorSet/\", \n",
        "    x_col='filename',\n",
        "    y_col='category',\n",
        "    target_size=IMAGE_SIZE,\n",
        "    class_mode='categorical',\n",
        "    batch_size=batch_size\n",
        ")"
      ],
      "execution_count": 38,
      "outputs": [
        {
          "output_type": "stream",
          "text": [
            "Found 2122 validated image filenames belonging to 2 classes.\n"
          ],
          "name": "stdout"
        },
        {
          "output_type": "stream",
          "text": [
            "/usr/local/lib/python3.6/dist-packages/keras_preprocessing/image/dataframe_iterator.py:282: UserWarning: Found 2 invalid image filename(s) in x_col=\"filename\". These filename(s) will be ignored.\n",
            "  .format(n_invalid, x_col)\n"
          ],
          "name": "stderr"
        }
      ]
    },
    {
      "cell_type": "markdown",
      "metadata": {
        "id": "mVVVotrcK2P7"
      },
      "source": [
        "See how our generator work"
      ]
    },
    {
      "cell_type": "code",
      "metadata": {
        "id": "VtfGbdKXKs_B",
        "outputId": "9b0091fc-03e0-4f56-bcc8-c835b515f411",
        "colab": {
          "base_uri": "https://localhost:8080/"
        }
      },
      "source": [
        "example_df = train_df.sample(n=1).reset_index(drop=True)\n",
        "example_generator = train_datagen.flow_from_dataframe(\n",
        "    example_df, \n",
        "    \"./train_extracted/MM17-WeiboRumorSet/\", \n",
        "    x_col='filename',\n",
        "    y_col='category',\n",
        "    target_size=IMAGE_SIZE,\n",
        "    class_mode='categorical'\n",
        ")"
      ],
      "execution_count": 39,
      "outputs": [
        {
          "output_type": "stream",
          "text": [
            "Found 1 validated image filenames belonging to 1 classes.\n"
          ],
          "name": "stdout"
        }
      ]
    },
    {
      "cell_type": "markdown",
      "metadata": {
        "id": "IgVpi6rfLOVh"
      },
      "source": [
        "Seems great"
      ]
    },
    {
      "cell_type": "markdown",
      "metadata": {
        "id": "G4bJtNoKLQNf"
      },
      "source": [
        "Fit Model"
      ]
    },
    {
      "cell_type": "code",
      "metadata": {
        "id": "iJW0H0FJOFoG"
      },
      "source": [
        "FAST_RUN = False"
      ],
      "execution_count": 40,
      "outputs": []
    },
    {
      "cell_type": "code",
      "metadata": {
        "id": "iYK7nnTtLE6y",
        "outputId": "bff77415-eb85-4695-dd54-8f561df53af4",
        "colab": {
          "base_uri": "https://localhost:8080/"
        }
      },
      "source": [
        "epochs=3 if FAST_RUN else 20\n",
        "history = model.fit_generator(\n",
        "    train_generator, \n",
        "    epochs=epochs,\n",
        "    validation_data=validation_generator,\n",
        "    validation_steps=total_validate//batch_size,\n",
        "    steps_per_epoch=total_train//batch_size,\n",
        "    callbacks=callbacks\n",
        ")"
      ],
      "execution_count": 41,
      "outputs": [
        {
          "output_type": "stream",
          "text": [
            "WARNING:tensorflow:From <ipython-input-41-28f6c98b1462>:8: Model.fit_generator (from tensorflow.python.keras.engine.training) is deprecated and will be removed in a future version.\n",
            "Instructions for updating:\n",
            "Please use Model.fit, which supports generators.\n",
            "Epoch 1/20\n",
            "265/265 [==============================] - 105s 397ms/step - loss: 0.9798 - accuracy: 0.5522 - val_loss: 0.7007 - val_accuracy: 0.5521\n",
            "Epoch 2/20\n",
            "265/265 [==============================] - 105s 395ms/step - loss: 0.7123 - accuracy: 0.5886 - val_loss: 0.6494 - val_accuracy: 0.5966\n",
            "Epoch 3/20\n",
            "265/265 [==============================] - 104s 391ms/step - loss: 0.6675 - accuracy: 0.6025 - val_loss: 0.6318 - val_accuracy: 0.6293\n",
            "Epoch 4/20\n",
            "265/265 [==============================] - 103s 390ms/step - loss: 0.6509 - accuracy: 0.6181 - val_loss: 0.6659 - val_accuracy: 0.5909\n",
            "Epoch 5/20\n",
            "265/265 [==============================] - 103s 390ms/step - loss: 0.6407 - accuracy: 0.6235 - val_loss: 0.6081 - val_accuracy: 0.6496\n",
            "Epoch 6/20\n",
            "265/265 [==============================] - 103s 387ms/step - loss: 0.6315 - accuracy: 0.6374 - val_loss: 0.8040 - val_accuracy: 0.5597\n",
            "Epoch 7/20\n",
            "265/265 [==============================] - ETA: 0s - loss: 0.6376 - accuracy: 0.6345\n",
            "Epoch 00007: ReduceLROnPlateau reducing learning rate to 0.0005000000237487257.\n",
            "265/265 [==============================] - 103s 387ms/step - loss: 0.6376 - accuracy: 0.6345 - val_loss: 0.6636 - val_accuracy: 0.6226\n",
            "Epoch 8/20\n",
            "265/265 [==============================] - 102s 385ms/step - loss: 0.6095 - accuracy: 0.6552 - val_loss: 0.6029 - val_accuracy: 0.6728\n",
            "Epoch 9/20\n",
            "265/265 [==============================] - 102s 385ms/step - loss: 0.6011 - accuracy: 0.6604 - val_loss: 0.6267 - val_accuracy: 0.6733\n",
            "Epoch 10/20\n",
            "265/265 [==============================] - 102s 384ms/step - loss: 0.6021 - accuracy: 0.6675 - val_loss: 0.5914 - val_accuracy: 0.6884\n",
            "Epoch 11/20\n",
            "265/265 [==============================] - 101s 381ms/step - loss: 0.5986 - accuracy: 0.6715 - val_loss: 0.5771 - val_accuracy: 0.6870\n",
            "Epoch 12/20\n",
            "265/265 [==============================] - 101s 381ms/step - loss: 0.5908 - accuracy: 0.6762 - val_loss: 0.5773 - val_accuracy: 0.6955\n",
            "Epoch 13/20\n",
            "265/265 [==============================] - 101s 382ms/step - loss: 0.5940 - accuracy: 0.6667 - val_loss: 0.6135 - val_accuracy: 0.6742\n",
            "Epoch 14/20\n",
            "265/265 [==============================] - 100s 378ms/step - loss: 0.5929 - accuracy: 0.6752 - val_loss: 0.5717 - val_accuracy: 0.7041\n",
            "Epoch 15/20\n",
            "265/265 [==============================] - 100s 378ms/step - loss: 0.5880 - accuracy: 0.6754 - val_loss: 0.5572 - val_accuracy: 0.7116\n",
            "Epoch 16/20\n",
            "265/265 [==============================] - 101s 380ms/step - loss: 0.5829 - accuracy: 0.6827 - val_loss: 0.5652 - val_accuracy: 0.7102\n",
            "Epoch 17/20\n",
            "265/265 [==============================] - ETA: 0s - loss: 0.5834 - accuracy: 0.6839\n",
            "Epoch 00017: ReduceLROnPlateau reducing learning rate to 0.0002500000118743628.\n",
            "265/265 [==============================] - 100s 376ms/step - loss: 0.5834 - accuracy: 0.6839 - val_loss: 0.6205 - val_accuracy: 0.6965\n",
            "Epoch 18/20\n",
            "265/265 [==============================] - 102s 386ms/step - loss: 0.5646 - accuracy: 0.7027 - val_loss: 0.6951 - val_accuracy: 0.6553\n",
            "Epoch 19/20\n",
            "265/265 [==============================] - ETA: 0s - loss: 0.5661 - accuracy: 0.6997\n",
            "Epoch 00019: ReduceLROnPlateau reducing learning rate to 0.0001250000059371814.\n",
            "265/265 [==============================] - 102s 384ms/step - loss: 0.5661 - accuracy: 0.6997 - val_loss: 0.5646 - val_accuracy: 0.7083\n",
            "Epoch 20/20\n",
            "265/265 [==============================] - 101s 381ms/step - loss: 0.5617 - accuracy: 0.7022 - val_loss: 0.5576 - val_accuracy: 0.7249\n"
          ],
          "name": "stdout"
        }
      ]
    },
    {
      "cell_type": "markdown",
      "metadata": {
        "id": "hqmvDWKSO2-w"
      },
      "source": [
        "Save Model"
      ]
    },
    {
      "cell_type": "code",
      "metadata": {
        "id": "3HUVXwMKO3gJ"
      },
      "source": [
        "model.save_weights(\"model.h5\")"
      ],
      "execution_count": 42,
      "outputs": []
    },
    {
      "cell_type": "code",
      "metadata": {
        "id": "t9gbIiI3VHfZ"
      },
      "source": [
        "model.save_weights(\"2_Conv_layers_1_COMP5331_Initial_Full_Classifier_Ayush_10102020Rumor_Nonrumor_50epochs_model.h5\")"
      ],
      "execution_count": 43,
      "outputs": []
    },
    {
      "cell_type": "code",
      "metadata": {
        "id": "eQw6YuLRq3tT"
      },
      "source": [
        "# saving the dataframe \n",
        "df.to_csv('2_Conv_layers_1_COMP5331_Initial_Full_Classifier_Ayush_10102020df_5331.csv') "
      ],
      "execution_count": 44,
      "outputs": []
    },
    {
      "cell_type": "code",
      "metadata": {
        "id": "RJ70WX4tq8s1"
      },
      "source": [
        "# saving the dataframe \n",
        "df_train.to_csv('2_Conv_layers_1_COMP5331_Initial_Full_Classifier_Ayush_10102020df_train_5331.csv')\n",
        "# saving the dataframe \n",
        "df_test.to_csv('2_Conv_layers_1_COMP5331_Initial_Full_Classifier_Ayush_10102020df_test_5331.csv') "
      ],
      "execution_count": 45,
      "outputs": []
    },
    {
      "cell_type": "code",
      "metadata": {
        "id": "K3if-P8VVMLZ",
        "outputId": "9f578fc3-5761-49f4-c0b6-597d7c5dfe4d",
        "colab": {
          "base_uri": "https://localhost:8080/",
          "height": 51
        }
      },
      "source": [
        "from google.colab import files\n",
        "files.download('2_Conv_layers_1_COMP5331_Initial_Full_Classifier_Ayush_10102020Rumor_Nonrumor_50epochs_model.h5') "
      ],
      "execution_count": 46,
      "outputs": [
        {
          "output_type": "display_data",
          "data": {
            "application/javascript": [
              "\n",
              "    async function download(id, filename, size) {\n",
              "      if (!google.colab.kernel.accessAllowed) {\n",
              "        return;\n",
              "      }\n",
              "      const div = document.createElement('div');\n",
              "      const label = document.createElement('label');\n",
              "      label.textContent = `Downloading \"${filename}\": `;\n",
              "      div.appendChild(label);\n",
              "      const progress = document.createElement('progress');\n",
              "      progress.max = size;\n",
              "      div.appendChild(progress);\n",
              "      document.body.appendChild(div);\n",
              "\n",
              "      const buffers = [];\n",
              "      let downloaded = 0;\n",
              "\n",
              "      const channel = await google.colab.kernel.comms.open(id);\n",
              "      // Send a message to notify the kernel that we're ready.\n",
              "      channel.send({})\n",
              "\n",
              "      for await (const message of channel.messages) {\n",
              "        // Send a message to notify the kernel that we're ready.\n",
              "        channel.send({})\n",
              "        if (message.buffers) {\n",
              "          for (const buffer of message.buffers) {\n",
              "            buffers.push(buffer);\n",
              "            downloaded += buffer.byteLength;\n",
              "            progress.value = downloaded;\n",
              "          }\n",
              "        }\n",
              "      }\n",
              "      const blob = new Blob(buffers, {type: 'application/binary'});\n",
              "      const a = document.createElement('a');\n",
              "      a.href = window.URL.createObjectURL(blob);\n",
              "      a.download = filename;\n",
              "      div.appendChild(a);\n",
              "      a.click();\n",
              "      div.remove();\n",
              "    }\n",
              "  "
            ],
            "text/plain": [
              "<IPython.core.display.Javascript object>"
            ]
          },
          "metadata": {
            "tags": []
          }
        },
        {
          "output_type": "display_data",
          "data": {
            "application/javascript": [
              "download(\"download_7fb59676-db95-4a18-8971-3983fd0b45f0\", \"2_Conv_layers_1_COMP5331_Initial_Full_Classifier_Ayush_10102020Rumor_Nonrumor_50epochs_model.h5\", 118091472)"
            ],
            "text/plain": [
              "<IPython.core.display.Javascript object>"
            ]
          },
          "metadata": {
            "tags": []
          }
        }
      ]
    },
    {
      "cell_type": "code",
      "metadata": {
        "id": "fabeuti9rJgv",
        "outputId": "2a382612-8622-465a-e853-2b292dd95cfd",
        "colab": {
          "base_uri": "https://localhost:8080/",
          "height": 17
        }
      },
      "source": [
        "files.download('2_Conv_layers_1_COMP5331_Initial_Full_Classifier_Ayush_10102020df_5331.csv') \n",
        "files.download('2_Conv_layers_1_COMP5331_Initial_Full_Classifier_Ayush_10102020df_train_5331.csv') \n",
        "files.download('2_Conv_layers_1_COMP5331_Initial_Full_Classifier_Ayush_10102020df_test_5331.csv') "
      ],
      "execution_count": 47,
      "outputs": [
        {
          "output_type": "display_data",
          "data": {
            "application/javascript": [
              "\n",
              "    async function download(id, filename, size) {\n",
              "      if (!google.colab.kernel.accessAllowed) {\n",
              "        return;\n",
              "      }\n",
              "      const div = document.createElement('div');\n",
              "      const label = document.createElement('label');\n",
              "      label.textContent = `Downloading \"${filename}\": `;\n",
              "      div.appendChild(label);\n",
              "      const progress = document.createElement('progress');\n",
              "      progress.max = size;\n",
              "      div.appendChild(progress);\n",
              "      document.body.appendChild(div);\n",
              "\n",
              "      const buffers = [];\n",
              "      let downloaded = 0;\n",
              "\n",
              "      const channel = await google.colab.kernel.comms.open(id);\n",
              "      // Send a message to notify the kernel that we're ready.\n",
              "      channel.send({})\n",
              "\n",
              "      for await (const message of channel.messages) {\n",
              "        // Send a message to notify the kernel that we're ready.\n",
              "        channel.send({})\n",
              "        if (message.buffers) {\n",
              "          for (const buffer of message.buffers) {\n",
              "            buffers.push(buffer);\n",
              "            downloaded += buffer.byteLength;\n",
              "            progress.value = downloaded;\n",
              "          }\n",
              "        }\n",
              "      }\n",
              "      const blob = new Blob(buffers, {type: 'application/binary'});\n",
              "      const a = document.createElement('a');\n",
              "      a.href = window.URL.createObjectURL(blob);\n",
              "      a.download = filename;\n",
              "      div.appendChild(a);\n",
              "      a.click();\n",
              "      div.remove();\n",
              "    }\n",
              "  "
            ],
            "text/plain": [
              "<IPython.core.display.Javascript object>"
            ]
          },
          "metadata": {
            "tags": []
          }
        },
        {
          "output_type": "display_data",
          "data": {
            "application/javascript": [
              "download(\"download_16090b4d-42ff-4cd3-a73e-46da1fbb06b7\", \"2_Conv_layers_1_COMP5331_Initial_Full_Classifier_Ayush_10102020df_5331.csv\", 830161)"
            ],
            "text/plain": [
              "<IPython.core.display.Javascript object>"
            ]
          },
          "metadata": {
            "tags": []
          }
        },
        {
          "output_type": "display_data",
          "data": {
            "application/javascript": [
              "\n",
              "    async function download(id, filename, size) {\n",
              "      if (!google.colab.kernel.accessAllowed) {\n",
              "        return;\n",
              "      }\n",
              "      const div = document.createElement('div');\n",
              "      const label = document.createElement('label');\n",
              "      label.textContent = `Downloading \"${filename}\": `;\n",
              "      div.appendChild(label);\n",
              "      const progress = document.createElement('progress');\n",
              "      progress.max = size;\n",
              "      div.appendChild(progress);\n",
              "      document.body.appendChild(div);\n",
              "\n",
              "      const buffers = [];\n",
              "      let downloaded = 0;\n",
              "\n",
              "      const channel = await google.colab.kernel.comms.open(id);\n",
              "      // Send a message to notify the kernel that we're ready.\n",
              "      channel.send({})\n",
              "\n",
              "      for await (const message of channel.messages) {\n",
              "        // Send a message to notify the kernel that we're ready.\n",
              "        channel.send({})\n",
              "        if (message.buffers) {\n",
              "          for (const buffer of message.buffers) {\n",
              "            buffers.push(buffer);\n",
              "            downloaded += buffer.byteLength;\n",
              "            progress.value = downloaded;\n",
              "          }\n",
              "        }\n",
              "      }\n",
              "      const blob = new Blob(buffers, {type: 'application/binary'});\n",
              "      const a = document.createElement('a');\n",
              "      a.href = window.URL.createObjectURL(blob);\n",
              "      a.download = filename;\n",
              "      div.appendChild(a);\n",
              "      a.click();\n",
              "      div.remove();\n",
              "    }\n",
              "  "
            ],
            "text/plain": [
              "<IPython.core.display.Javascript object>"
            ]
          },
          "metadata": {
            "tags": []
          }
        },
        {
          "output_type": "display_data",
          "data": {
            "application/javascript": [
              "download(\"download_b825fa35-1d80-4aec-bf78-c8b4674811e9\", \"2_Conv_layers_1_COMP5331_Initial_Full_Classifier_Ayush_10102020df_train_5331.csv\", 661529)"
            ],
            "text/plain": [
              "<IPython.core.display.Javascript object>"
            ]
          },
          "metadata": {
            "tags": []
          }
        },
        {
          "output_type": "display_data",
          "data": {
            "application/javascript": [
              "\n",
              "    async function download(id, filename, size) {\n",
              "      if (!google.colab.kernel.accessAllowed) {\n",
              "        return;\n",
              "      }\n",
              "      const div = document.createElement('div');\n",
              "      const label = document.createElement('label');\n",
              "      label.textContent = `Downloading \"${filename}\": `;\n",
              "      div.appendChild(label);\n",
              "      const progress = document.createElement('progress');\n",
              "      progress.max = size;\n",
              "      div.appendChild(progress);\n",
              "      document.body.appendChild(div);\n",
              "\n",
              "      const buffers = [];\n",
              "      let downloaded = 0;\n",
              "\n",
              "      const channel = await google.colab.kernel.comms.open(id);\n",
              "      // Send a message to notify the kernel that we're ready.\n",
              "      channel.send({})\n",
              "\n",
              "      for await (const message of channel.messages) {\n",
              "        // Send a message to notify the kernel that we're ready.\n",
              "        channel.send({})\n",
              "        if (message.buffers) {\n",
              "          for (const buffer of message.buffers) {\n",
              "            buffers.push(buffer);\n",
              "            downloaded += buffer.byteLength;\n",
              "            progress.value = downloaded;\n",
              "          }\n",
              "        }\n",
              "      }\n",
              "      const blob = new Blob(buffers, {type: 'application/binary'});\n",
              "      const a = document.createElement('a');\n",
              "      a.href = window.URL.createObjectURL(blob);\n",
              "      a.download = filename;\n",
              "      div.appendChild(a);\n",
              "      a.click();\n",
              "      div.remove();\n",
              "    }\n",
              "  "
            ],
            "text/plain": [
              "<IPython.core.display.Javascript object>"
            ]
          },
          "metadata": {
            "tags": []
          }
        },
        {
          "output_type": "display_data",
          "data": {
            "application/javascript": [
              "download(\"download_7f0931fb-3c50-4bb5-9f0e-d1eaea84781a\", \"2_Conv_layers_1_COMP5331_Initial_Full_Classifier_Ayush_10102020df_test_5331.csv\", 168651)"
            ],
            "text/plain": [
              "<IPython.core.display.Javascript object>"
            ]
          },
          "metadata": {
            "tags": []
          }
        }
      ]
    },
    {
      "cell_type": "code",
      "metadata": {
        "id": "jtoywaWXkraL",
        "outputId": "8052c8f0-8fae-48f9-bbaf-a6e6a78d85d1",
        "colab": {
          "base_uri": "https://localhost:8080/"
        }
      },
      "source": [
        "model.load_weights(\"model.h5\")\n",
        "print(\"Loaded model from disk\")"
      ],
      "execution_count": 48,
      "outputs": [
        {
          "output_type": "stream",
          "text": [
            "Loaded model from disk\n"
          ],
          "name": "stdout"
        }
      ]
    },
    {
      "cell_type": "markdown",
      "metadata": {
        "id": "oxt6QQ-hO8PG"
      },
      "source": [
        "Visualize Training"
      ]
    },
    {
      "cell_type": "code",
      "metadata": {
        "id": "4NJQxiabO5h8",
        "outputId": "4b513d99-6a2f-4287-9a3a-1c90fb4ae1b5",
        "colab": {
          "base_uri": "https://localhost:8080/",
          "height": 873
        }
      },
      "source": [
        "fig, (ax1, ax2) = plt.subplots(2, 1, figsize=(12, 12))\n",
        "ax1.plot(history.history['loss'], color='b', label=\"Training loss\")\n",
        "ax1.plot(history.history['val_loss'], color='r', label=\"validation loss\")\n",
        "ax1.set_xticks(np.arange(1, epochs, 1))\n",
        "ax1.set_yticks(np.arange(0, 1, 0.1))\n",
        "\n",
        "ax2.plot(history.history['accuracy'], color='b', label=\"Training accuracy\")\n",
        "ax2.plot(history.history['val_accuracy'], color='r',label=\"Validation accuracy\")\n",
        "ax2.set_xticks(np.arange(1, epochs, 1))\n",
        "\n",
        "legend = plt.legend(loc='best', shadow=True)\n",
        "plt.tight_layout()\n",
        "plt.show()"
      ],
      "execution_count": 49,
      "outputs": [
        {
          "output_type": "display_data",
          "data": {
            "image/png": "[encoded data removed]",
            "text/plain": [
              "<Figure size 864x864 with 2 Axes>"
            ]
          },
          "metadata": {
            "tags": [],
            "needs_background": "light"
          }
        }
      ]
    },
    {
      "cell_type": "markdown",
      "metadata": {
        "id": "C6oe8cu2PIPc"
      },
      "source": [
        "Prepare Testing Data"
      ]
    },
    {
      "cell_type": "code",
      "metadata": {
        "id": "qLANKo8ebfnZ",
        "outputId": "88d713c7-89b4-4305-8a3e-17485c6a795e",
        "colab": {
          "base_uri": "https://localhost:8080/",
          "height": 203
        }
      },
      "source": [
        "df_test.head()\n"
      ],
      "execution_count": 50,
      "outputs": [
        {
          "output_type": "execute_result",
          "data": {
            "text/html": [
              "<div>\n",
              "<style scoped>\n",
              "    .dataframe tbody tr th:only-of-type {\n",
              "        vertical-align: middle;\n",
              "    }\n",
              "\n",
              "    .dataframe tbody tr th {\n",
              "        vertical-align: top;\n",
              "    }\n",
              "\n",
              "    .dataframe thead th {\n",
              "        text-align: right;\n",
              "    }\n",
              "</style>\n",
              "<table border=\"1\" class=\"dataframe\">\n",
              "  <thead>\n",
              "    <tr style=\"text-align: right;\">\n",
              "      <th></th>\n",
              "      <th>filename</th>\n",
              "      <th>category</th>\n",
              "    </tr>\n",
              "  </thead>\n",
              "  <tbody>\n",
              "    <tr>\n",
              "      <th>10617</th>\n",
              "      <td>nonrumor_images/593793e5gw1eyx00y4yy9j20c80gb0...</td>\n",
              "      <td>nonrumor</td>\n",
              "    </tr>\n",
              "    <tr>\n",
              "      <th>10618</th>\n",
              "      <td>nonrumor_images/4e5b54d8gw1eyk1do25yrj20c80gb7...</td>\n",
              "      <td>nonrumor</td>\n",
              "    </tr>\n",
              "    <tr>\n",
              "      <th>10619</th>\n",
              "      <td>nonrumor_images/60718250jw1eyt39bfwvrj20b4079t...</td>\n",
              "      <td>nonrumor</td>\n",
              "    </tr>\n",
              "    <tr>\n",
              "      <th>10620</th>\n",
              "      <td>nonrumor_images/470bf257gw1eyfbota55tj21kw247t...</td>\n",
              "      <td>nonrumor</td>\n",
              "    </tr>\n",
              "    <tr>\n",
              "      <th>10621</th>\n",
              "      <td>rumor_images/55b843c4gw1dxs6tpbauvj.jpg</td>\n",
              "      <td>rumor</td>\n",
              "    </tr>\n",
              "  </tbody>\n",
              "</table>\n",
              "</div>"
            ],
            "text/plain": [
              "                                                filename  category\n",
              "10617  nonrumor_images/593793e5gw1eyx00y4yy9j20c80gb0...  nonrumor\n",
              "10618  nonrumor_images/4e5b54d8gw1eyk1do25yrj20c80gb7...  nonrumor\n",
              "10619  nonrumor_images/60718250jw1eyt39bfwvrj20b4079t...  nonrumor\n",
              "10620  nonrumor_images/470bf257gw1eyfbota55tj21kw247t...  nonrumor\n",
              "10621            rumor_images/55b843c4gw1dxs6tpbauvj.jpg     rumor"
            ]
          },
          "metadata": {
            "tags": []
          },
          "execution_count": 50
        }
      ]
    },
    {
      "cell_type": "code",
      "metadata": {
        "id": "9UBNf5qQbtip"
      },
      "source": [
        "df_test = df_test.reset_index(drop = True)"
      ],
      "execution_count": 51,
      "outputs": []
    },
    {
      "cell_type": "code",
      "metadata": {
        "id": "qgwp88LEPEJI",
        "outputId": "b3f63bea-4fd1-4229-966b-2b3323be956c",
        "colab": {
          "base_uri": "https://localhost:8080/"
        }
      },
      "source": [
        "test_filenames = []\n",
        "test_categories = []\n",
        "for i in range(0,len(df_test)):\n",
        "  test_filenames.append(df_test['filename'][i])\n",
        "  test_categories.append(df_test['category'][i])\n",
        "print(len(test_filenames))"
      ],
      "execution_count": 52,
      "outputs": [
        {
          "output_type": "stream",
          "text": [
            "2655\n"
          ],
          "name": "stdout"
        }
      ]
    },
    {
      "cell_type": "code",
      "metadata": {
        "id": "oroYR9nFPKaX"
      },
      "source": [
        "test_df = df_test\n",
        "nb_samples = test_df.shape[0]"
      ],
      "execution_count": 53,
      "outputs": []
    },
    {
      "cell_type": "markdown",
      "metadata": {
        "id": "ke2CJfEzeQxk"
      },
      "source": [
        "Create Testing Generator"
      ]
    },
    {
      "cell_type": "code",
      "metadata": {
        "id": "Au0hQBuDPMi3",
        "outputId": "3eafb416-0b84-48f8-9245-a983ef3037e9",
        "colab": {
          "base_uri": "https://localhost:8080/"
        }
      },
      "source": [
        "test_gen = ImageDataGenerator(rescale=1./255)\n",
        "test_generator = test_gen.flow_from_dataframe(\n",
        "    test_df, \n",
        "    \"./train_extracted/MM17-WeiboRumorSet/\", \n",
        "    x_col='filename',\n",
        "    y_col=None,\n",
        "    class_mode=None,\n",
        "    target_size=IMAGE_SIZE,\n",
        "    batch_size=batch_size,\n",
        "    shuffle=False,\n",
        "    validate_filenames=False\n",
        ")"
      ],
      "execution_count": 54,
      "outputs": [
        {
          "output_type": "stream",
          "text": [
            "Found 2655 non-validated image filenames.\n"
          ],
          "name": "stdout"
        }
      ]
    },
    {
      "cell_type": "markdown",
      "metadata": {
        "id": "4QrM6f9seki3"
      },
      "source": [
        "Predict"
      ]
    },
    {
      "cell_type": "code",
      "metadata": {
        "id": "xaL3pLJ2eT-x"
      },
      "source": [
        "predict = model.predict(test_generator, steps=np.ceil(nb_samples/batch_size))"
      ],
      "execution_count": 55,
      "outputs": []
    },
    {
      "cell_type": "code",
      "metadata": {
        "id": "amQMkq5kemlx",
        "outputId": "83de3e4e-8b97-4562-ea7c-31aeb19308ce",
        "colab": {
          "base_uri": "https://localhost:8080/"
        }
      },
      "source": [
        "print(predict)"
      ],
      "execution_count": 56,
      "outputs": [
        {
          "output_type": "stream",
          "text": [
            "[[0.4276789  0.5723211 ]\n",
            " [0.5081447  0.49185532]\n",
            " [0.3001609  0.6998391 ]\n",
            " ...\n",
            " [0.30766356 0.69233644]\n",
            " [0.38093075 0.6190692 ]\n",
            " [0.6424906  0.35750943]]\n"
          ],
          "name": "stdout"
        }
      ]
    },
    {
      "cell_type": "markdown",
      "metadata": {
        "id": "cCw8FByKeqYS"
      },
      "source": [
        "For categoral classication the prediction will come with probability of each category. So we will pick the category that have the highest probability with numpy average max"
      ]
    },
    {
      "cell_type": "code",
      "metadata": {
        "id": "kfp83CZ6eoFA"
      },
      "source": [
        "test_df['category_predicted'] = np.argmax(predict, axis=-1)"
      ],
      "execution_count": 57,
      "outputs": []
    },
    {
      "cell_type": "markdown",
      "metadata": {
        "id": "UBRiP8lvevMY"
      },
      "source": [
        "We will convert the predict category back into our generator classes by using train_generator.class_indices. It is the classes that image generator map while converting data into computer vision"
      ]
    },
    {
      "cell_type": "code",
      "metadata": {
        "id": "JZ-sNkxResjR"
      },
      "source": [
        "label_map = dict((v,k) for k,v in train_generator.class_indices.items())\n",
        "test_df['category_predicted'] = test_df['category_predicted'].replace(label_map)"
      ],
      "execution_count": 58,
      "outputs": []
    },
    {
      "cell_type": "markdown",
      "metadata": {
        "id": "A3bZxpsKggzh"
      },
      "source": [
        "From our prepare data part. We map data with {1: 'rumor', 0: 'nonrumor'}. Now we will map the result back to rumor is 1 and nonrumor is 0"
      ]
    },
    {
      "cell_type": "code",
      "metadata": {
        "id": "V0zaVoW2exJx"
      },
      "source": [
        "test_df['category_predicted'] = test_df['category_predicted'].replace({ 'rumor': 1, 'nonrumor': 0 })\n",
        "test_df['category'] = test_df['category'].replace({ 'rumor': 1, 'nonrumor': 0 })"
      ],
      "execution_count": 59,
      "outputs": []
    },
    {
      "cell_type": "markdown",
      "metadata": {
        "id": "CpR5BXrngknH"
      },
      "source": [
        "Virtaulize Result"
      ]
    },
    {
      "cell_type": "code",
      "metadata": {
        "id": "n3NO-gkEgiwd",
        "outputId": "2fc9fe4d-7c57-4908-97a6-c0bfc6fa184a",
        "colab": {
          "base_uri": "https://localhost:8080/",
          "height": 279
        }
      },
      "source": [
        "test_df['category_predicted'].value_counts().plot.bar()"
      ],
      "execution_count": 60,
      "outputs": [
        {
          "output_type": "execute_result",
          "data": {
            "text/plain": [
              "<matplotlib.axes._subplots.AxesSubplot at 0x7fd5a6373e10>"
            ]
          },
          "metadata": {
            "tags": []
          },
          "execution_count": 60
        },
        {
          "output_type": "display_data",
          "data": {
            "image/png": "[encoded data removed]",
            "text/plain": [
              "<Figure size 432x288 with 1 Axes>"
            ]
          },
          "metadata": {
            "tags": [],
            "needs_background": "light"
          }
        }
      ]
    },
    {
      "cell_type": "code",
      "metadata": {
        "id": "JIFDmAJpj36U",
        "outputId": "b40d6133-b030-40dc-f08e-680034500201",
        "colab": {
          "base_uri": "https://localhost:8080/",
          "height": 279
        }
      },
      "source": [
        "test_df['category'].value_counts().plot.bar()"
      ],
      "execution_count": 61,
      "outputs": [
        {
          "output_type": "execute_result",
          "data": {
            "text/plain": [
              "<matplotlib.axes._subplots.AxesSubplot at 0x7fd5a6351860>"
            ]
          },
          "metadata": {
            "tags": []
          },
          "execution_count": 61
        },
        {
          "output_type": "display_data",
          "data": {
            "image/png": "[encoded data removed]",
            "text/plain": [
              "<Figure size 432x288 with 1 Axes>"
            ]
          },
          "metadata": {
            "tags": [],
            "needs_background": "light"
          }
        }
      ]
    },
    {
      "cell_type": "code",
      "metadata": {
        "id": "F8Vgbm5Oj6re"
      },
      "source": [
        "y_pred = test_df['category_predicted']\n",
        "y_true = test_df['category']"
      ],
      "execution_count": 62,
      "outputs": []
    },
    {
      "cell_type": "code",
      "metadata": {
        "id": "Fl5UHyHCbf_M",
        "outputId": "d1c8ae01-b3ba-429d-eb74-9c351edfca5d",
        "colab": {
          "base_uri": "https://localhost:8080/"
        }
      },
      "source": [
        "from sklearn.metrics import accuracy_score # normal accuracy\n",
        "from sklearn.metrics import balanced_accuracy_score # used in case of imbalanced data sets, average of recall, from 0 to 1\n",
        "from sklearn.metrics import confusion_matrix # division of performance on the multilabels\n",
        "from sklearn.metrics import cohen_kappa_score # compares model against random prediction, from -1 to 1\n",
        "from sklearn.metrics import classification_report # for multilabel classification, gives precision, recall, f score, support, more\n",
        "target_names = ['class 0', 'class 1']\n",
        "\n",
        "def print_metrics(y_true, y_pred):\n",
        "    print(\"Accuracy:\", accuracy_score(y_true, y_pred))\n",
        "    print(\"Balanced Accuracy:\" , balanced_accuracy_score(y_true, y_pred))\n",
        "    print(\"Confusion Matrix:\\n\", confusion_matrix(y_true, y_pred))\n",
        "    print(\"Cohen Kappa Score:\", cohen_kappa_score(y_true, y_pred))\n",
        "    print(\"Classification Report:\\n\", classification_report(y_true, y_pred, target_names=target_names))\n",
        "    \n",
        "print('CNN Only')\n",
        "print_metrics(y_true, y_pred)"
      ],
      "execution_count": 63,
      "outputs": [
        {
          "output_type": "stream",
          "text": [
            "CNN Only\n",
            "Accuracy: 0.7344632768361582\n",
            "Balanced Accuracy: 0.7250624003145467\n",
            "Confusion Matrix:\n",
            " [[ 736  361]\n",
            " [ 344 1214]]\n",
            "Cohen Kappa Score: 0.45115916977845805\n",
            "Classification Report:\n",
            "               precision    recall  f1-score   support\n",
            "\n",
            "     class 0       0.68      0.67      0.68      1097\n",
            "     class 1       0.77      0.78      0.77      1558\n",
            "\n",
            "    accuracy                           0.73      2655\n",
            "   macro avg       0.73      0.73      0.73      2655\n",
            "weighted avg       0.73      0.73      0.73      2655\n",
            "\n"
          ],
          "name": "stdout"
        }
      ]
    },
    {
      "cell_type": "markdown",
      "metadata": {
        "id": "kzYktfpVgo7v"
      },
      "source": [
        "See predicted result with images"
      ]
    },
    {
      "cell_type": "code",
      "metadata": {
        "id": "NninvD-ebAX3",
        "outputId": "00953c29-cef1-4f89-9679-e3223fb30d62",
        "colab": {
          "base_uri": "https://localhost:8080/",
          "height": 17
        }
      },
      "source": [
        "# saving the dataframe of our results\n",
        "test_df.to_csv('2_Conv_layers_1_COMP5331_Initial_Full_Classifier_Ayush_10102020test_df_5331.csv') \n",
        "files.download('2_Conv_layers_1_COMP5331_Initial_Full_Classifier_Ayush_10102020test_df_5331.csv')"
      ],
      "execution_count": 64,
      "outputs": [
        {
          "output_type": "display_data",
          "data": {
            "application/javascript": [
              "\n",
              "    async function download(id, filename, size) {\n",
              "      if (!google.colab.kernel.accessAllowed) {\n",
              "        return;\n",
              "      }\n",
              "      const div = document.createElement('div');\n",
              "      const label = document.createElement('label');\n",
              "      label.textContent = `Downloading \"${filename}\": `;\n",
              "      div.appendChild(label);\n",
              "      const progress = document.createElement('progress');\n",
              "      progress.max = size;\n",
              "      div.appendChild(progress);\n",
              "      document.body.appendChild(div);\n",
              "\n",
              "      const buffers = [];\n",
              "      let downloaded = 0;\n",
              "\n",
              "      const channel = await google.colab.kernel.comms.open(id);\n",
              "      // Send a message to notify the kernel that we're ready.\n",
              "      channel.send({})\n",
              "\n",
              "      for await (const message of channel.messages) {\n",
              "        // Send a message to notify the kernel that we're ready.\n",
              "        channel.send({})\n",
              "        if (message.buffers) {\n",
              "          for (const buffer of message.buffers) {\n",
              "            buffers.push(buffer);\n",
              "            downloaded += buffer.byteLength;\n",
              "            progress.value = downloaded;\n",
              "          }\n",
              "        }\n",
              "      }\n",
              "      const blob = new Blob(buffers, {type: 'application/binary'});\n",
              "      const a = document.createElement('a');\n",
              "      a.href = window.URL.createObjectURL(blob);\n",
              "      a.download = filename;\n",
              "      div.appendChild(a);\n",
              "      a.click();\n",
              "      div.remove();\n",
              "    }\n",
              "  "
            ],
            "text/plain": [
              "<IPython.core.display.Javascript object>"
            ]
          },
          "metadata": {
            "tags": []
          }
        },
        {
          "output_type": "display_data",
          "data": {
            "application/javascript": [
              "download(\"download_572fb69b-f02c-41ea-af7f-07223bd9b727\", \"2_Conv_layers_1_COMP5331_Initial_Full_Classifier_Ayush_10102020test_df_5331.csv\", 156304)"
            ],
            "text/plain": [
              "<IPython.core.display.Javascript object>"
            ]
          },
          "metadata": {
            "tags": []
          }
        }
      ]
    },
    {
      "cell_type": "code",
      "metadata": {
        "id": "EuGiE__EpTAU"
      },
      "source": [
        ""
      ],
      "execution_count": 64,
      "outputs": []
    }
  ]
}